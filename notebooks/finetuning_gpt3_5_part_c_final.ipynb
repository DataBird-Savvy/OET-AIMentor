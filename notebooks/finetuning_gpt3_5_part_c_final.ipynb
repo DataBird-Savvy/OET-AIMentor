{
 "cells": [
  {
   "cell_type": "code",
   "execution_count": 1,
   "metadata": {
    "colab": {
     "base_uri": "https://localhost:8080/"
    },
    "id": "van5eeuDRo7s",
    "outputId": "25c8a25c-9e5f-4c5d-e02b-156c8dc668c6"
   },
   "outputs": [
    {
     "name": "stdout",
     "output_type": "stream",
     "text": [
      "Collecting openai\n",
      "  Downloading openai-1.52.0-py3-none-any.whl.metadata (24 kB)\n",
      "Requirement already satisfied: anyio<5,>=3.5.0 in /usr/local/lib/python3.10/dist-packages (from openai) (3.7.1)\n",
      "Requirement already satisfied: distro<2,>=1.7.0 in /usr/lib/python3/dist-packages (from openai) (1.7.0)\n",
      "Collecting httpx<1,>=0.23.0 (from openai)\n",
      "  Downloading httpx-0.27.2-py3-none-any.whl.metadata (7.1 kB)\n",
      "Collecting jiter<1,>=0.4.0 (from openai)\n",
      "  Downloading jiter-0.6.1-cp310-cp310-manylinux_2_17_x86_64.manylinux2014_x86_64.whl.metadata (5.2 kB)\n",
      "Requirement already satisfied: pydantic<3,>=1.9.0 in /usr/local/lib/python3.10/dist-packages (from openai) (2.9.2)\n",
      "Requirement already satisfied: sniffio in /usr/local/lib/python3.10/dist-packages (from openai) (1.3.1)\n",
      "Requirement already satisfied: tqdm>4 in /usr/local/lib/python3.10/dist-packages (from openai) (4.66.5)\n",
      "Requirement already satisfied: typing-extensions<5,>=4.11 in /usr/local/lib/python3.10/dist-packages (from openai) (4.12.2)\n",
      "Requirement already satisfied: idna>=2.8 in /usr/local/lib/python3.10/dist-packages (from anyio<5,>=3.5.0->openai) (3.10)\n",
      "Requirement already satisfied: exceptiongroup in /usr/local/lib/python3.10/dist-packages (from anyio<5,>=3.5.0->openai) (1.2.2)\n",
      "Requirement already satisfied: certifi in /usr/local/lib/python3.10/dist-packages (from httpx<1,>=0.23.0->openai) (2024.8.30)\n",
      "Collecting httpcore==1.* (from httpx<1,>=0.23.0->openai)\n",
      "  Downloading httpcore-1.0.6-py3-none-any.whl.metadata (21 kB)\n",
      "Collecting h11<0.15,>=0.13 (from httpcore==1.*->httpx<1,>=0.23.0->openai)\n",
      "  Downloading h11-0.14.0-py3-none-any.whl.metadata (8.2 kB)\n",
      "Requirement already satisfied: annotated-types>=0.6.0 in /usr/local/lib/python3.10/dist-packages (from pydantic<3,>=1.9.0->openai) (0.7.0)\n",
      "Requirement already satisfied: pydantic-core==2.23.4 in /usr/local/lib/python3.10/dist-packages (from pydantic<3,>=1.9.0->openai) (2.23.4)\n",
      "Downloading openai-1.52.0-py3-none-any.whl (386 kB)\n",
      "\u001b[2K   \u001b[90m━━━━━━━━━━━━━━━━━━━━━━━━━━━━━━━━━━━━━━━━\u001b[0m \u001b[32m386.9/386.9 kB\u001b[0m \u001b[31m7.7 MB/s\u001b[0m eta \u001b[36m0:00:00\u001b[0m\n",
      "\u001b[?25hDownloading httpx-0.27.2-py3-none-any.whl (76 kB)\n",
      "\u001b[2K   \u001b[90m━━━━━━━━━━━━━━━━━━━━━━━━━━━━━━━━━━━━━━━━\u001b[0m \u001b[32m76.4/76.4 kB\u001b[0m \u001b[31m4.2 MB/s\u001b[0m eta \u001b[36m0:00:00\u001b[0m\n",
      "\u001b[?25hDownloading httpcore-1.0.6-py3-none-any.whl (78 kB)\n",
      "\u001b[2K   \u001b[90m━━━━━━━━━━━━━━━━━━━━━━━━━━━━━━━━━━━━━━━━\u001b[0m \u001b[32m78.0/78.0 kB\u001b[0m \u001b[31m5.4 MB/s\u001b[0m eta \u001b[36m0:00:00\u001b[0m\n",
      "\u001b[?25hDownloading jiter-0.6.1-cp310-cp310-manylinux_2_17_x86_64.manylinux2014_x86_64.whl (325 kB)\n",
      "\u001b[2K   \u001b[90m━━━━━━━━━━━━━━━━━━━━━━━━━━━━━━━━━━━━━━━━\u001b[0m \u001b[32m325.2/325.2 kB\u001b[0m \u001b[31m20.3 MB/s\u001b[0m eta \u001b[36m0:00:00\u001b[0m\n",
      "\u001b[?25hDownloading h11-0.14.0-py3-none-any.whl (58 kB)\n",
      "\u001b[2K   \u001b[90m━━━━━━━━━━━━━━━━━━━━━━━━━━━━━━━━━━━━━━━━\u001b[0m \u001b[32m58.3/58.3 kB\u001b[0m \u001b[31m3.5 MB/s\u001b[0m eta \u001b[36m0:00:00\u001b[0m\n",
      "\u001b[?25hInstalling collected packages: jiter, h11, httpcore, httpx, openai\n",
      "Successfully installed h11-0.14.0 httpcore-1.0.6 httpx-0.27.2 jiter-0.6.1 openai-1.52.0\n"
     ]
    }
   ],
   "source": [
    "!pip install openai"
   ]
  },
  {
   "cell_type": "code",
   "execution_count": 1,
   "metadata": {
    "id": "SohyoEsRR6In"
   },
   "outputs": [
    {
     "ename": "ModuleNotFoundError",
     "evalue": "No module named 'google.colab'",
     "output_type": "error",
     "traceback": [
      "\u001b[1;31m---------------------------------------------------------------------------\u001b[0m",
      "\u001b[1;31mModuleNotFoundError\u001b[0m                       Traceback (most recent call last)",
      "Cell \u001b[1;32mIn[1], line 1\u001b[0m\n\u001b[1;32m----> 1\u001b[0m \u001b[38;5;28;01mfrom\u001b[39;00m \u001b[38;5;21;01mgoogle\u001b[39;00m\u001b[38;5;21;01m.\u001b[39;00m\u001b[38;5;21;01mcolab\u001b[39;00m \u001b[38;5;28;01mimport\u001b[39;00m userdata\n\u001b[0;32m      2\u001b[0m OPENAI_API_KEY\u001b[38;5;241m=\u001b[39muserdata\u001b[38;5;241m.\u001b[39mget(\u001b[38;5;124m'\u001b[39m\u001b[38;5;124mOPENAI_API_KEY\u001b[39m\u001b[38;5;124m'\u001b[39m)\n",
      "\u001b[1;31mModuleNotFoundError\u001b[0m: No module named 'google.colab'"
     ]
    }
   ],
   "source": [
    "from google.colab import userdata\n",
    "OPENAI_API_KEY=userdata.get('OPENAI_API_KEY')"
   ]
  },
  {
   "cell_type": "code",
   "execution_count": 3,
   "metadata": {
    "id": "DhAlzbIESxN5"
   },
   "outputs": [
    {
     "ename": "NameError",
     "evalue": "name 'OPENAI_API_KEY' is not defined",
     "output_type": "error",
     "traceback": [
      "\u001b[1;31m---------------------------------------------------------------------------\u001b[0m",
      "\u001b[1;31mNameError\u001b[0m                                 Traceback (most recent call last)",
      "Cell \u001b[1;32mIn[3], line 2\u001b[0m\n\u001b[0;32m      1\u001b[0m \u001b[38;5;28;01mimport\u001b[39;00m \u001b[38;5;21;01mos\u001b[39;00m\n\u001b[1;32m----> 2\u001b[0m os\u001b[38;5;241m.\u001b[39menviron[\u001b[38;5;124m'\u001b[39m\u001b[38;5;124mOPENAI_API_KEY\u001b[39m\u001b[38;5;124m'\u001b[39m]\u001b[38;5;241m=\u001b[39m\u001b[43mOPENAI_API_KEY\u001b[49m\n",
      "\u001b[1;31mNameError\u001b[0m: name 'OPENAI_API_KEY' is not defined"
     ]
    }
   ],
   "source": [
    "import os\n",
    "os.environ['OPENAI_API_KEY']=OPENAI_API_KEY"
   ]
  },
  {
   "cell_type": "code",
   "execution_count": 1,
   "metadata": {
    "id": "6Nz9XMSESjQI"
   },
   "outputs": [],
   "source": [
    "from openai import OpenAI"
   ]
  },
  {
   "cell_type": "code",
   "execution_count": 2,
   "metadata": {
    "id": "4PXvZIcSSs4V"
   },
   "outputs": [],
   "source": [
    "client=OpenAI()"
   ]
  },
  {
   "cell_type": "code",
   "execution_count": 28,
   "metadata": {
    "colab": {
     "base_uri": "https://localhost:8080/"
    },
    "id": "Mk8u0u_iSuHA",
    "outputId": "94575d1b-8a05-4339-8c69-444c2c3c2d27"
   },
   "outputs": [
    {
     "data": {
      "text/plain": [
       "FileObject(id='file-dWkAPJMZ7WEhNf6D1G7XETOg', bytes=74786, created_at=1729573295, filename='OETReadingPartC.jsonl', object='file', purpose='fine-tune', status='processed', status_details=None)"
      ]
     },
     "execution_count": 28,
     "metadata": {},
     "output_type": "execute_result"
    }
   ],
   "source": [
    "client.files.create(\n",
    "    file=open(\"/content/OETReadingPartC.jsonl\", \"rb\"),\n",
    "    purpose=\"fine-tune\"\n",
    ")"
   ]
  },
  {
   "cell_type": "code",
   "execution_count": 29,
   "metadata": {
    "id": "pEgv8rd2TROb"
   },
   "outputs": [],
   "source": [
    "files=client.files.list()"
   ]
  },
  {
   "cell_type": "code",
   "execution_count": 18,
   "metadata": {
    "id": "lwJIcTYNTZJD"
   },
   "outputs": [],
   "source": [
    "files=client.files.list()"
   ]
  },
  {
   "cell_type": "code",
   "execution_count": 30,
   "metadata": {
    "id": "z5i4voICThPb"
   },
   "outputs": [],
   "source": [
    "for file in files:\n",
    "  if file.filename=='OETReadingPartC.jsonl':\n",
    "    training_file_id=file.id\n",
    "    break\n"
   ]
  },
  {
   "cell_type": "code",
   "execution_count": null,
   "metadata": {
    "id": "6Xf7R5yAUFED"
   },
   "outputs": [],
   "source": []
  },
  {
   "cell_type": "code",
   "execution_count": 31,
   "metadata": {
    "colab": {
     "base_uri": "https://localhost:8080/"
    },
    "id": "VL1AqfWsThSi",
    "outputId": "2a14563d-6949-40e2-ef61-b1491c377d44"
   },
   "outputs": [
    {
     "data": {
      "text/plain": [
       "FineTuningJob(id='ftjob-532DV3d6HvZ722WZK8aQz92V', created_at=1729573306, error=Error(code=None, message=None, param=None), fine_tuned_model=None, finished_at=None, hyperparameters=Hyperparameters(n_epochs='auto', batch_size='auto', learning_rate_multiplier='auto'), model='gpt-3.5-turbo-0125', object='fine_tuning.job', organization_id='org-pfE7CVTNIVvNT6fd39Az3vpr', result_files=[], seed=404962982, status='validating_files', trained_tokens=None, training_file='file-dWkAPJMZ7WEhNf6D1G7XETOg', validation_file=None, estimated_finish=None, integrations=[], user_provided_suffix=None)"
      ]
     },
     "execution_count": 31,
     "metadata": {},
     "output_type": "execute_result"
    }
   ],
   "source": [
    "client.fine_tuning.jobs.create(\n",
    "    training_file=training_file_id,\n",
    "    model=\"gpt-3.5-turbo\"\n",
    ")"
   ]
  },
  {
   "cell_type": "code",
   "execution_count": 32,
   "metadata": {
    "id": "LPG_H9HjUNhN"
   },
   "outputs": [],
   "source": [
    "jobs=client.fine_tuning.jobs.list()"
   ]
  },
  {
   "cell_type": "code",
   "execution_count": 33,
   "metadata": {
    "colab": {
     "base_uri": "https://localhost:8080/"
    },
    "id": "3qTcOiDiUfd4",
    "outputId": "511844da-b99b-4992-edf3-1b70f89c0df4"
   },
   "outputs": [
    {
     "name": "stdout",
     "output_type": "stream",
     "text": [
      "FineTuningJob(id='ftjob-532DV3d6HvZ722WZK8aQz92V', created_at=1729573306, error=Error(code=None, message=None, param=None), fine_tuned_model=None, finished_at=None, hyperparameters=Hyperparameters(n_epochs='auto', batch_size='auto', learning_rate_multiplier='auto'), model='gpt-3.5-turbo-0125', object='fine_tuning.job', organization_id='org-pfE7CVTNIVvNT6fd39Az3vpr', result_files=[], seed=404962982, status='validating_files', trained_tokens=None, training_file='file-dWkAPJMZ7WEhNf6D1G7XETOg', validation_file=None, estimated_finish=None, integrations=[], user_provided_suffix=None)\n",
      "FineTuningJob(id='ftjob-q5hQRqvcg984Cf41vEUWKnZI', created_at=1729572609, error=Error(code=None, message=None, param=None), fine_tuned_model='ft:gpt-3.5-turbo-0125:personal::AL1D9qmJ', finished_at=1729572905, hyperparameters=Hyperparameters(n_epochs=10, batch_size=1, learning_rate_multiplier=2), model='gpt-3.5-turbo-0125', object='fine_tuning.job', organization_id='org-pfE7CVTNIVvNT6fd39Az3vpr', result_files=['file-eaW0WxtdBJDf08XctUbWKAIg'], seed=24350514, status='succeeded', trained_tokens=132910, training_file='file-hGqTxF6mwBLccGoqz1jfa1oE', validation_file=None, estimated_finish=None, integrations=[], user_provided_suffix=None)\n",
      "FineTuningJob(id='ftjob-VacpAbs9HEeVTlYumyQ8zOaO', created_at=1729495351, error=Error(code=None, message=None, param=None), fine_tuned_model='ft:gpt-3.5-turbo-0125:personal::AKh7VV2I', finished_at=1729495676, hyperparameters=Hyperparameters(n_epochs=10, batch_size=1, learning_rate_multiplier=2), model='gpt-3.5-turbo-0125', object='fine_tuning.job', organization_id='org-pfE7CVTNIVvNT6fd39Az3vpr', result_files=['file-73mMKsp746XfAAVxlUivspiI'], seed=555716723, status='succeeded', trained_tokens=25740, training_file='file-6UKE3TPjO7QadNqULdhP8kU5', validation_file=None, estimated_finish=None, integrations=[], user_provided_suffix=None)\n",
      "FineTuningJob(id='ftjob-taT3U88hpFekZTo60gFj4mGp', created_at=1729490560, error=Error(code=None, message=None, param=None), fine_tuned_model='ft:gpt-3.5-turbo-0125:personal::AKftMGdA', finished_at=1729490953, hyperparameters=Hyperparameters(n_epochs=9, batch_size=1, learning_rate_multiplier=2), model='gpt-3.5-turbo-0125', object='fine_tuning.job', organization_id='org-pfE7CVTNIVvNT6fd39Az3vpr', result_files=['file-3YYCLTB5E9WerVbrJExE7swH'], seed=1845559494, status='succeeded', trained_tokens=26856, training_file='file-O3pazkyAFpynROc0IdSaquwr', validation_file=None, estimated_finish=None, integrations=[], user_provided_suffix=None)\n",
      "FineTuningJob(id='ftjob-UoB3Ew6bVrua5GHOUIIQlpfR', created_at=1729484597, error=Error(code='invalid_training_file', message='The job failed due to an invalid training file. Invalid file format. Line 1, message 3, key \"content.str\": Input should be a valid string', param='training_file'), fine_tuned_model=None, finished_at=None, hyperparameters=Hyperparameters(n_epochs='auto', batch_size='auto', learning_rate_multiplier='auto'), model='gpt-3.5-turbo-0125', object='fine_tuning.job', organization_id='org-pfE7CVTNIVvNT6fd39Az3vpr', result_files=[], seed=959879567, status='failed', trained_tokens=None, training_file='file-V9ti9ATq96EJVbyCn8HfyaU7', validation_file=None, estimated_finish=None, integrations=[], user_provided_suffix=None)\n"
     ]
    }
   ],
   "source": [
    "for job in jobs:\n",
    "  print(job)"
   ]
  },
  {
   "cell_type": "code",
   "execution_count": 45,
   "metadata": {
    "colab": {
     "base_uri": "https://localhost:8080/"
    },
    "id": "w1k4WAhVUi2v",
    "outputId": "04bd6128-f892-4f66-e0b8-26e830cdb91f"
   },
   "outputs": [
    {
     "data": {
      "text/plain": [
       "FineTuningJob(id='ftjob-q5hQRqvcg984Cf41vEUWKnZI', created_at=1729572609, error=Error(code=None, message=None, param=None), fine_tuned_model='ft:gpt-3.5-turbo-0125:personal::AL1D9qmJ', finished_at=1729572905, hyperparameters=Hyperparameters(n_epochs=10, batch_size=1, learning_rate_multiplier=2), model='gpt-3.5-turbo-0125', object='fine_tuning.job', organization_id='org-pfE7CVTNIVvNT6fd39Az3vpr', result_files=['file-eaW0WxtdBJDf08XctUbWKAIg'], seed=24350514, status='succeeded', trained_tokens=132910, training_file='file-hGqTxF6mwBLccGoqz1jfa1oE', validation_file=None, estimated_finish=None, integrations=[], user_provided_suffix=None)"
      ]
     },
     "execution_count": 45,
     "metadata": {},
     "output_type": "execute_result"
    }
   ],
   "source": [
    "client.fine_tuning.jobs.retrieve(\"ftjob-q5hQRqvcg984Cf41vEUWKnZI\")"
   ]
  },
  {
   "cell_type": "code",
   "execution_count": 5,
   "metadata": {
    "id": "_tH0_GvvU7wV"
   },
   "outputs": [],
   "source": [
    "response=client.chat.completions.create(\n",
    "    model=\"ft:gpt-3.5-turbo-0125:personal::AL1D9qmJ\",# better model for part C\n",
    "    messages=[\n",
    "        {\"role\": \"user\", \"content\": \"Create a reading comprehension task suitable for the OET Reading Test with title, specifically for Part C. The task should focus on a discussion about the role of telemedicine in modern healthcare. Include details about the benefits, challenges, and future implications of telemedicine. Formulate  multiple-choice questions based on this case.include title also inside the passage\"}\n",
    "    ])"
   ]
  },
  {
   "cell_type": "code",
   "execution_count": 6,
   "metadata": {
    "colab": {
     "base_uri": "https://localhost:8080/"
    },
    "id": "6sdJTaPRZBxM",
    "outputId": "28f0b015-6538-4151-d244-a61aa691c40b"
   },
   "outputs": [
    {
     "name": "stdout",
     "output_type": "stream",
     "text": [
      "Title: The Growing Role of Telemedicine in Modern Healthcare\n",
      "\n",
      "Telemedicine, a rapidly advancing field in healthcare, has revolutionized patient care by providing remote medical services through the use of telecommunications technology. This innovative approach has garnered significant attention, especially in the wake of the COVID-19 pandemic, which necessitated the adoption of telemedicine to ensure continuity of care while minimizing the risk of virus transmission. As healthcare systems around the world continue to adapt to the changing landscape, the role of telemedicine is becoming increasingly prominent.\n",
      "\n",
      "Benefits of Telemedicine\n",
      "One of the primary advantages of telemedicine is its ability to enhance access to healthcare services, particularly for individuals living in rural or underserved areas. Patients can consult with healthcare providers from the comfort of their homes, eliminating the need for travel and reducing associated costs. This not only saves time but also ensures that individuals with limited mobility or transportation options can still receive necessary medical attention.\n",
      "\n",
      "Additionally, telemedicine facilitates timely consultations, allowing patients to receive quick medical advice for non-emergency issues. This can help alleviate the burden on healthcare facilities, which often face long wait times for appointments. Patients can schedule virtual visits at their convenience, leading to more efficient use of healthcare resources.\n",
      "\n",
      "Furthermore, telemedicine has the potential to improve patient outcomes by enabling regular monitoring of chronic conditions. Through the use of remote monitoring devices, healthcare providers can track vital signs and other health parameters, allowing for early intervention if any abnormalities are detected. This proactive approach can help prevent exacerbations of chronic illnesses and reduce the need for hospitalizations.\n",
      "\n",
      "Challenges of Telemedicine\n",
      "Despite its numerous benefits, telemedicine also presents challenges that must be addressed to ensure its effective implementation. One of the primary concerns is the issue of patient privacy and data security. Telemedicine involves the transmission of sensitive patient information over the internet, making it susceptible to cyberattacks. Healthcare providers must adhere to strict regulations, such as the Health Insurance Portability and Accountability Act (HIPAA), to protect patient data.\n",
      "\n",
      "Another challenge is the potential for disparities in access to telemedicine services. While telemedicine has the potential to improve access for many patients, those without reliable internet access or digital literacy may be left behind. This could exacerbate existing health disparities, as marginalized populations are less likely to have access to the technology necessary for telemedicine visits. Efforts must be made to ensure equitable access to telemedicine for all patients.\n",
      "\n",
      "Future Implications of Telemedicine\n",
      "The future of telemedicine holds great promise, with the potential to transform the way healthcare is delivered. As technology continues to advance, telemedicine is likely to become even more integrated into routine medical practice. Innovations such as artificial intelligence (AI) and machine learning are expected to play a significant role in telemedicine, allowing for more accurate diagnoses and personalized treatment plans.\n",
      "\n",
      "Additionally, the shift towards telemedicine may lead to changes in healthcare delivery models. Many healthcare organizations are exploring hybrid models that combine in-person and virtual care, providing patients with more options for how they receive medical services. This flexibility could lead to improved patient satisfaction and better outcomes.\n",
      "\n",
      "Telemedicine also has the potential to reduce healthcare costs, both for patients and providers. By eliminating the need for in-person visits, telemedicine can lower overhead expenses for healthcare facilities. Patients may also save money on transportation and missed workdays, leading to overall cost savings in the long run.\n",
      "\n",
      "Furthermore, telemedicine can facilitate collaboration among healthcare professionals, enabling more efficient and coordinated care. Specialists can easily consult with primary care providers and share information, leading to more comprehensive treatment plans for patients.\n",
      "\n",
      "Multiple-Choice Questions:\n",
      "1. What is one of the primary benefits of telemedicine?\n",
      "a) It increases the cost of healthcare for patients.\n",
      "b) It enhances access to healthcare services, especially for rural and underserved populations.\n",
      "c) It eliminates the need for healthcare providers.\n",
      "d) It provides only emergency medical services.\n",
      "\n",
      "2. What is a key challenge associated with telemedicine?\n",
      "a) It reduces patient autonomy in decision-making.\n",
      "b) It does not allow for monitoring of chronic conditions.\n",
      "c) It is not covered by insurance.\n",
      "d) Patient privacy and data security concerns.\n",
      "\n",
      "3. How might telemedicine impact healthcare delivery in the future?\n",
      "a) By increasing wait times for appointments.\n",
      "b) By reducing healthcare costs for patients and providers.\n",
      "c) By limiting the types of services available.\n",
      "d) By increasing the burden on healthcare facilities.\n",
      "\n",
      "4. What technology is likely to play a significant role in the future of telemedicine?\n",
      "a) Cloud computing.\n",
      "b) Artificial intelligence and machine learning.\n",
      "c) Virtual reality.\n",
      "d) Wearable devices.\n",
      "\n",
      "5. What is a potential future implication of telemedicine according to the passage?\n",
      "a) It will only be available to high-income individuals.\n",
      "b) It may lead to more coordinated and comprehensive patient care.\n",
      "c) It will entirely replace traditional healthcare.\n",
      "d) It will increase the workload for healthcare providers.\n",
      "\n",
      "Answer Key:\n",
      "1. b) It enhances access to healthcare services, especially for rural and underserved populations.\n",
      "2. d) Patient privacy and data security concerns.\n",
      "3. b) By reducing healthcare costs for patients and providers.\n",
      "4. b) Artificial intelligence and machine learning.\n",
      "5. b) It may lead to more coordinated and comprehensive patient care.\n"
     ]
    }
   ],
   "source": [
    "generated_text=response.choices[0].message.content\n",
    "print(response.choices[0].message.content)\n"
   ]
  },
  {
   "cell_type": "markdown",
   "metadata": {
    "id": "6sFYc6WaarMo"
   },
   "source": [
    "**EVALUATING THE MODEL**"
   ]
  },
  {
   "cell_type": "code",
   "execution_count": 48,
   "metadata": {
    "id": "Cs-aLYxfLArM"
   },
   "outputs": [],
   "source": [
    "# Example dataset (replace with your actual data)\n",
    "references = [\n",
    "    \"{\\\"passage\\\": \\\"Telemedicine has emerged as a transformative tool in modern healthcare, providing patients and healthcare providers with new methods of interaction and management of health conditions from a distance. This approach utilizes telecommunications technology to deliver clinical healthcare services, making it an invaluable resource, especially during the COVID-19 pandemic when traditional face-to-face consultations were restricted. The rapid adoption of telemedicine has reshaped patient care, allowing for continued access to health services during times of crisis.\\\\n\\\\nOne of the most significant advantages of telemedicine is the increased accessibility it offers to healthcare. Patients living in rural or underserved areas can benefit from medical consultations without needing to travel long distances, which is often challenging due to time constraints or transportation issues. This is particularly crucial for those with chronic conditions who require regular check-ups. Furthermore, telemedicine alleviates the burden on healthcare facilities by allowing providers to manage more patients remotely, leading to reduced wait times and enhanced efficiency in healthcare delivery.\\\\n\\\\nTelemedicine also provides greater flexibility for both patients and healthcare providers. Patients can schedule appointments at their convenience, sometimes even outside traditional office hours. This flexibility can improve adherence to treatment plans, as patients are more likely to attend appointments that fit their schedules. For healthcare providers, telemedicine can streamline their workload, allowing them to consult with multiple patients in a shorter amount of time compared to in-person visits.\\\\n\\\\nDespite its many benefits, telemedicine faces several notable challenges. A significant concern is the lack of physical examinations, which can hinder healthcare providers' ability to make accurate diagnoses. While telehealth allows for consultations and discussions, it often limits the ability to perform hands-on assessments that are crucial for certain conditions. This limitation may lead to misdiagnoses or missed signs of serious medical issues, which can have adverse effects on patient health.\\\\n\\\\nMoreover, not all patients have equal access to the technology required for telemedicine consultations. While smartphones and the internet have become ubiquitous in many areas, there are still populations that lack reliable access to these resources. This digital divide can exacerbate existing health disparities, as those without access to telemedicine services may miss out on critical healthcare support.\\\\n\\\\nPrivacy and security represent another significant concern in telemedicine. As consultations often involve sensitive medical information being transmitted over the internet, the potential for data breaches is a real risk. Healthcare providers must ensure that the platforms they use comply with stringent regulations regarding patient confidentiality, such as the Health Insurance Portability and Accountability Act (HIPAA) in the United States. Patients must also be educated about how to protect their personal information during virtual consultations.\\\\n\\\\nLooking forward, the future of telemedicine appears promising, with potential advancements poised to further enhance its role in healthcare. Innovations in technology, particularly in artificial intelligence (AI) and wearable devices, may significantly improve telemedicine services. AI tools could assist healthcare providers in diagnosing and monitoring patients remotely, analyzing vast amounts of data to provide insights that inform treatment decisions.\\\\n\\\\nWearable devices, such as smartwatches and fitness trackers, can collect and transmit real-time health data, including heart rate and oxygen saturation levels, to healthcare providers. This information could allow for more timely interventions and personalized care plans based on individual patient needs. For example, a patient with a chronic respiratory condition could be monitored continuously through a wearable device, alerting their provider to any concerning changes that may necessitate immediate attention.\\\\n\\\\nHowever, for telemedicine to realize its full potential, healthcare systems must address the challenges it currently faces. Ensuring equitable access to technology, implementing robust privacy protections, and integrating telemedicine into mainstream healthcare practices will be crucial for its long-term success. In conclusion, while telemedicine has the potential to revolutionize healthcare delivery, its effective implementation will require continued investment, adaptation, and collaboration among all stakeholders in the healthcare system.\\\", \\\"tasks\\\": [{\\\"task_type\\\": \\\"multiple_choice\\\", \\\"task\\\": \\\"What is one of the primary benefits of telemedicine highlighted in the passage?\\\", \\\"options\\\": [\\\"a) It eliminates the need for healthcare providers.\\\", \\\"b) It enhances patient accessibility to healthcare services.\\\", \\\"c) It guarantees accurate diagnoses for all conditions.\\\", \\\"d) It is only useful during pandemics.\\\"], \\\"correct_answer\\\": \\\"b) It enhances patient accessibility to healthcare services.\\\", \\\"explanation\\\": \\\"The passage emphasizes that telemedicine increases accessibility, especially for patients in rural or underserved areas.\\\"}, {\\\"task_type\\\": \\\"multiple_choice\\\", \\\"task\\\": \\\"What is a significant challenge of telemedicine as described in the passage?\\\", \\\"options\\\": [\\\"a) Patients have to travel long distances for consultations.\\\", \\\"b) There is a lack of physical examinations that can hinder accurate diagnosis.\\\", \\\"c) Telemedicine is not accepted by all healthcare providers.\\\", \\\"d) Telemedicine reduces patient-provider interactions.\\\"], \\\"correct_answer\\\": \\\"b) There is a lack of physical examinations that can hinder accurate diagnosis.\\\", \\\"explanation\\\": \\\"The passage states that the absence of physical examinations can lead to misdiagnoses or missed signs of serious conditions.\\\"}, {\\\"task_type\\\": \\\"multiple_choice\\\", \\\"task\\\": \\\"How might wearable devices impact telemedicine in the future according to the passage?\\\", \\\"options\\\": [\\\"a) By replacing healthcare providers.\\\", \\\"b) By providing real-time health data to healthcare providers.\\\", \\\"c) By limiting the types of consultations available.\\\", \\\"d) By reducing the costs of healthcare.\\\"], \\\"correct_answer\\\": \\\"b) By providing real-time health data to healthcare providers.\\\", \\\"explanation\\\": \\\"The passage mentions that wearable devices can transmit vital health information, facilitating timely interventions.\\\"}, {\\\"task_type\\\": \\\"multiple_choice\\\", \\\"task\\\": \\\"What does the passage suggest is necessary for the long-term success of telemedicine?\\\", \\\"options\\\": [\\\"a) Reducing the number of healthcare providers.\\\", \\\"b) Investment in technology and addressing privacy concerns.\\\", \\\"c) Limiting telemedicine to emergency cases only.\\\", \\\"d) Providing services only to urban populations.\\\"], \\\"correct_answer\\\": \\\"b) Investment in technology and addressing privacy concerns.\\\", \\\"explanation\\\": \\\"The passage indicates that addressing challenges like access to technology and privacy protections is essential for telemedicine's future success.\\\"}]}\"\n",
    "]\n",
    "\n",
    "generated_texts = [\n",
    "    generated_text,  # This would come from your fine-tuned model's output\n",
    "]\n"
   ]
  },
  {
   "cell_type": "code",
   "execution_count": 39,
   "metadata": {
    "colab": {
     "base_uri": "https://localhost:8080/"
    },
    "id": "7kix0O9Ebqib",
    "outputId": "edc8ec82-1beb-4aa9-82cd-b8d7ef6f7fee"
   },
   "outputs": [
    {
     "name": "stdout",
     "output_type": "stream",
     "text": [
      "Collecting rouge-score\n",
      "  Downloading rouge_score-0.1.2.tar.gz (17 kB)\n",
      "  Preparing metadata (setup.py) ... \u001b[?25l\u001b[?25hdone\n",
      "Collecting evaluate\n",
      "  Downloading evaluate-0.4.3-py3-none-any.whl.metadata (9.2 kB)\n",
      "Requirement already satisfied: absl-py in /usr/local/lib/python3.10/dist-packages (from rouge-score) (1.4.0)\n",
      "Requirement already satisfied: nltk in /usr/local/lib/python3.10/dist-packages (from rouge-score) (3.8.1)\n",
      "Requirement already satisfied: numpy in /usr/local/lib/python3.10/dist-packages (from rouge-score) (1.26.4)\n",
      "Requirement already satisfied: six>=1.14.0 in /usr/local/lib/python3.10/dist-packages (from rouge-score) (1.16.0)\n",
      "Collecting datasets>=2.0.0 (from evaluate)\n",
      "  Downloading datasets-3.0.1-py3-none-any.whl.metadata (20 kB)\n",
      "Collecting dill (from evaluate)\n",
      "  Downloading dill-0.3.9-py3-none-any.whl.metadata (10 kB)\n",
      "Requirement already satisfied: pandas in /usr/local/lib/python3.10/dist-packages (from evaluate) (2.2.2)\n",
      "Requirement already satisfied: requests>=2.19.0 in /usr/local/lib/python3.10/dist-packages (from evaluate) (2.32.3)\n",
      "Requirement already satisfied: tqdm>=4.62.1 in /usr/local/lib/python3.10/dist-packages (from evaluate) (4.66.5)\n",
      "Collecting xxhash (from evaluate)\n",
      "  Downloading xxhash-3.5.0-cp310-cp310-manylinux_2_17_x86_64.manylinux2014_x86_64.whl.metadata (12 kB)\n",
      "Collecting multiprocess (from evaluate)\n",
      "  Downloading multiprocess-0.70.17-py310-none-any.whl.metadata (7.2 kB)\n",
      "Requirement already satisfied: fsspec>=2021.05.0 in /usr/local/lib/python3.10/dist-packages (from fsspec[http]>=2021.05.0->evaluate) (2024.6.1)\n",
      "Requirement already satisfied: huggingface-hub>=0.7.0 in /usr/local/lib/python3.10/dist-packages (from evaluate) (0.24.7)\n",
      "Requirement already satisfied: packaging in /usr/local/lib/python3.10/dist-packages (from evaluate) (24.1)\n",
      "Requirement already satisfied: filelock in /usr/local/lib/python3.10/dist-packages (from datasets>=2.0.0->evaluate) (3.16.1)\n",
      "Requirement already satisfied: pyarrow>=15.0.0 in /usr/local/lib/python3.10/dist-packages (from datasets>=2.0.0->evaluate) (16.1.0)\n",
      "Collecting dill (from evaluate)\n",
      "  Downloading dill-0.3.8-py3-none-any.whl.metadata (10 kB)\n",
      "Requirement already satisfied: aiohttp in /usr/local/lib/python3.10/dist-packages (from datasets>=2.0.0->evaluate) (3.10.10)\n",
      "Requirement already satisfied: pyyaml>=5.1 in /usr/local/lib/python3.10/dist-packages (from datasets>=2.0.0->evaluate) (6.0.2)\n",
      "Requirement already satisfied: typing-extensions>=3.7.4.3 in /usr/local/lib/python3.10/dist-packages (from huggingface-hub>=0.7.0->evaluate) (4.12.2)\n",
      "Requirement already satisfied: charset-normalizer<4,>=2 in /usr/local/lib/python3.10/dist-packages (from requests>=2.19.0->evaluate) (3.4.0)\n",
      "Requirement already satisfied: idna<4,>=2.5 in /usr/local/lib/python3.10/dist-packages (from requests>=2.19.0->evaluate) (3.10)\n",
      "Requirement already satisfied: urllib3<3,>=1.21.1 in /usr/local/lib/python3.10/dist-packages (from requests>=2.19.0->evaluate) (2.2.3)\n",
      "Requirement already satisfied: certifi>=2017.4.17 in /usr/local/lib/python3.10/dist-packages (from requests>=2.19.0->evaluate) (2024.8.30)\n",
      "INFO: pip is looking at multiple versions of multiprocess to determine which version is compatible with other requirements. This could take a while.\n",
      "Collecting multiprocess (from evaluate)\n",
      "  Downloading multiprocess-0.70.16-py310-none-any.whl.metadata (7.2 kB)\n",
      "Requirement already satisfied: click in /usr/local/lib/python3.10/dist-packages (from nltk->rouge-score) (8.1.7)\n",
      "Requirement already satisfied: joblib in /usr/local/lib/python3.10/dist-packages (from nltk->rouge-score) (1.4.2)\n",
      "Requirement already satisfied: regex>=2021.8.3 in /usr/local/lib/python3.10/dist-packages (from nltk->rouge-score) (2024.9.11)\n",
      "Requirement already satisfied: python-dateutil>=2.8.2 in /usr/local/lib/python3.10/dist-packages (from pandas->evaluate) (2.8.2)\n",
      "Requirement already satisfied: pytz>=2020.1 in /usr/local/lib/python3.10/dist-packages (from pandas->evaluate) (2024.2)\n",
      "Requirement already satisfied: tzdata>=2022.7 in /usr/local/lib/python3.10/dist-packages (from pandas->evaluate) (2024.2)\n",
      "Requirement already satisfied: aiohappyeyeballs>=2.3.0 in /usr/local/lib/python3.10/dist-packages (from aiohttp->datasets>=2.0.0->evaluate) (2.4.3)\n",
      "Requirement already satisfied: aiosignal>=1.1.2 in /usr/local/lib/python3.10/dist-packages (from aiohttp->datasets>=2.0.0->evaluate) (1.3.1)\n",
      "Requirement already satisfied: attrs>=17.3.0 in /usr/local/lib/python3.10/dist-packages (from aiohttp->datasets>=2.0.0->evaluate) (24.2.0)\n",
      "Requirement already satisfied: frozenlist>=1.1.1 in /usr/local/lib/python3.10/dist-packages (from aiohttp->datasets>=2.0.0->evaluate) (1.4.1)\n",
      "Requirement already satisfied: multidict<7.0,>=4.5 in /usr/local/lib/python3.10/dist-packages (from aiohttp->datasets>=2.0.0->evaluate) (6.1.0)\n",
      "Requirement already satisfied: yarl<2.0,>=1.12.0 in /usr/local/lib/python3.10/dist-packages (from aiohttp->datasets>=2.0.0->evaluate) (1.15.2)\n",
      "Requirement already satisfied: async-timeout<5.0,>=4.0 in /usr/local/lib/python3.10/dist-packages (from aiohttp->datasets>=2.0.0->evaluate) (4.0.3)\n",
      "Requirement already satisfied: propcache>=0.2.0 in /usr/local/lib/python3.10/dist-packages (from yarl<2.0,>=1.12.0->aiohttp->datasets>=2.0.0->evaluate) (0.2.0)\n",
      "Downloading evaluate-0.4.3-py3-none-any.whl (84 kB)\n",
      "\u001b[2K   \u001b[90m━━━━━━━━━━━━━━━━━━━━━━━━━━━━━━━━━━━━━━━━\u001b[0m \u001b[32m84.0/84.0 kB\u001b[0m \u001b[31m3.3 MB/s\u001b[0m eta \u001b[36m0:00:00\u001b[0m\n",
      "\u001b[?25hDownloading datasets-3.0.1-py3-none-any.whl (471 kB)\n",
      "\u001b[2K   \u001b[90m━━━━━━━━━━━━━━━━━━━━━━━━━━━━━━━━━━━━━━━━\u001b[0m \u001b[32m471.6/471.6 kB\u001b[0m \u001b[31m11.9 MB/s\u001b[0m eta \u001b[36m0:00:00\u001b[0m\n",
      "\u001b[?25hDownloading dill-0.3.8-py3-none-any.whl (116 kB)\n",
      "\u001b[2K   \u001b[90m━━━━━━━━━━━━━━━━━━━━━━━━━━━━━━━━━━━━━━━━\u001b[0m \u001b[32m116.3/116.3 kB\u001b[0m \u001b[31m7.7 MB/s\u001b[0m eta \u001b[36m0:00:00\u001b[0m\n",
      "\u001b[?25hDownloading multiprocess-0.70.16-py310-none-any.whl (134 kB)\n",
      "\u001b[2K   \u001b[90m━━━━━━━━━━━━━━━━━━━━━━━━━━━━━━━━━━━━━━━━\u001b[0m \u001b[32m134.8/134.8 kB\u001b[0m \u001b[31m9.0 MB/s\u001b[0m eta \u001b[36m0:00:00\u001b[0m\n",
      "\u001b[?25hDownloading xxhash-3.5.0-cp310-cp310-manylinux_2_17_x86_64.manylinux2014_x86_64.whl (194 kB)\n",
      "\u001b[2K   \u001b[90m━━━━━━━━━━━━━━━━━━━━━━━━━━━━━━━━━━━━━━━━\u001b[0m \u001b[32m194.1/194.1 kB\u001b[0m \u001b[31m13.3 MB/s\u001b[0m eta \u001b[36m0:00:00\u001b[0m\n",
      "\u001b[?25hBuilding wheels for collected packages: rouge-score\n",
      "  Building wheel for rouge-score (setup.py) ... \u001b[?25l\u001b[?25hdone\n",
      "  Created wheel for rouge-score: filename=rouge_score-0.1.2-py3-none-any.whl size=24935 sha256=954d8f8978472a2a0425ce51ba2b1a3ef50c86614a54e3ebd0af8cf6c10f5fa3\n",
      "  Stored in directory: /root/.cache/pip/wheels/5f/dd/89/461065a73be61a532ff8599a28e9beef17985c9e9c31e541b4\n",
      "Successfully built rouge-score\n",
      "Installing collected packages: xxhash, dill, rouge-score, multiprocess, datasets, evaluate\n",
      "Successfully installed datasets-3.0.1 dill-0.3.8 evaluate-0.4.3 multiprocess-0.70.16 rouge-score-0.1.2 xxhash-3.5.0\n"
     ]
    }
   ],
   "source": [
    "!pip install rouge-score evaluate\n"
   ]
  },
  {
   "cell_type": "code",
   "execution_count": 49,
   "metadata": {
    "colab": {
     "base_uri": "https://localhost:8080/"
    },
    "id": "r6HEWj36bgnP",
    "outputId": "26478d51-068e-4697-d9ec-80f1912bd8dd"
   },
   "outputs": [
    {
     "name": "stdout",
     "output_type": "stream",
     "text": [
      "ROUGE Results: {'rouge1': 0.6548117154811716, 'rouge2': 0.2837696335078534, 'rougeL': 0.3158995815899582, 'rougeLsum': 0.3158995815899582}\n"
     ]
    }
   ],
   "source": [
    "import evaluate\n",
    "\n",
    "# Load the ROUGE metric from the Hugging Face `evaluate` library\n",
    "rouge = evaluate.load('rouge')\n",
    "\n",
    "# Compute ROUGE scores\n",
    "results = rouge.compute(predictions=generated_texts, references=references)\n",
    "\n",
    "# Display the results\n",
    "print(\"ROUGE Results:\", results)\n"
   ]
  },
  {
   "cell_type": "markdown",
   "metadata": {
    "id": "ETp3Kd71awws"
   },
   "source": [
    "CHECKING THE ERRORS IN JSNOL FILE /CALCULATING TOKENS/CHARGES"
   ]
  },
  {
   "cell_type": "code",
   "execution_count": 2,
   "metadata": {
    "colab": {
     "base_uri": "https://localhost:8080/"
    },
    "id": "MawTqA7pZBzM",
    "outputId": "80a685fd-ef1d-4a4b-bf64-250af6f0703d"
   },
   "outputs": [
    {
     "name": "stdout",
     "output_type": "stream",
     "text": [
      "Collecting tiktoken\n",
      "  Downloading tiktoken-0.8.0-cp310-cp310-manylinux_2_17_x86_64.manylinux2014_x86_64.whl.metadata (6.6 kB)\n",
      "Requirement already satisfied: regex>=2022.1.18 in /usr/local/lib/python3.10/dist-packages (from tiktoken) (2024.9.11)\n",
      "Requirement already satisfied: requests>=2.26.0 in /usr/local/lib/python3.10/dist-packages (from tiktoken) (2.32.3)\n",
      "Requirement already satisfied: charset-normalizer<4,>=2 in /usr/local/lib/python3.10/dist-packages (from requests>=2.26.0->tiktoken) (3.4.0)\n",
      "Requirement already satisfied: idna<4,>=2.5 in /usr/local/lib/python3.10/dist-packages (from requests>=2.26.0->tiktoken) (3.10)\n",
      "Requirement already satisfied: urllib3<3,>=1.21.1 in /usr/local/lib/python3.10/dist-packages (from requests>=2.26.0->tiktoken) (2.2.3)\n",
      "Requirement already satisfied: certifi>=2017.4.17 in /usr/local/lib/python3.10/dist-packages (from requests>=2.26.0->tiktoken) (2024.8.30)\n",
      "Downloading tiktoken-0.8.0-cp310-cp310-manylinux_2_17_x86_64.manylinux2014_x86_64.whl (1.2 MB)\n",
      "\u001b[2K   \u001b[90m━━━━━━━━━━━━━━━━━━━━━━━━━━━━━━━━━━━━━━━━\u001b[0m \u001b[32m1.2/1.2 MB\u001b[0m \u001b[31m13.9 MB/s\u001b[0m eta \u001b[36m0:00:00\u001b[0m\n",
      "\u001b[?25hInstalling collected packages: tiktoken\n",
      "Successfully installed tiktoken-0.8.0\n"
     ]
    }
   ],
   "source": [
    "!pip install tiktoken\n"
   ]
  },
  {
   "cell_type": "code",
   "execution_count": 3,
   "metadata": {
    "id": "6mqySCU5ZB2O"
   },
   "outputs": [],
   "source": [
    "import json\n",
    "import tiktoken # for token counting\n",
    "import numpy as np\n",
    "from collections import defaultdict"
   ]
  },
  {
   "cell_type": "code",
   "execution_count": 4,
   "metadata": {
    "colab": {
     "base_uri": "https://localhost:8080/"
    },
    "id": "Dg_vpnI0ZB4r",
    "outputId": "781b28ca-88b0-422f-aefa-cfe9621faba8"
   },
   "outputs": [
    {
     "name": "stdout",
     "output_type": "stream",
     "text": [
      "Num examples: 10\n",
      "First example:\n",
      "{'role': 'system', 'content': 'You are a reading test assistant for the OET exam.'}\n",
      "{'role': 'user', 'content': 'Create a reading comprehension task suitable for the OET Reading Test, specifically for Part C. The task should focus on a discussion about the role of telemedicine in modern healthcare. Include details about the benefits, challenges, and future implications of telemedicine. Formulate multiple-choice questions based on this case.'}\n",
      "{'role': 'assistant', 'content': '{\"passage\": \"Telemedicine has emerged as a transformative tool in modern healthcare, providing patients and healthcare providers with new methods of interaction and management of health conditions from a distance. This approach utilizes telecommunications technology to deliver clinical healthcare services, making it an invaluable resource, especially during the COVID-19 pandemic when traditional face-to-face consultations were restricted. The rapid adoption of telemedicine has reshaped patient care, allowing for continued access to health services during times of crisis.\\\\n\\\\nOne of the most significant advantages of telemedicine is the increased accessibility it offers to healthcare. Patients living in rural or underserved areas can benefit from medical consultations without needing to travel long distances, which is often challenging due to time constraints or transportation issues. This is particularly crucial for those with chronic conditions who require regular check-ups. Furthermore, telemedicine alleviates the burden on healthcare facilities by allowing providers to manage more patients remotely, leading to reduced wait times and enhanced efficiency in healthcare delivery.\\\\n\\\\nTelemedicine also provides greater flexibility for both patients and healthcare providers. Patients can schedule appointments at their convenience, sometimes even outside traditional office hours. This flexibility can improve adherence to treatment plans, as patients are more likely to attend appointments that fit their schedules. For healthcare providers, telemedicine can streamline their workload, allowing them to consult with multiple patients in a shorter amount of time compared to in-person visits.\\\\n\\\\nDespite its many benefits, telemedicine faces several notable challenges. A significant concern is the lack of physical examinations, which can hinder healthcare providers\\' ability to make accurate diagnoses. While telehealth allows for consultations and discussions, it often limits the ability to perform hands-on assessments that are crucial for certain conditions. This limitation may lead to misdiagnoses or missed signs of serious medical issues, which can have adverse effects on patient health.\\\\n\\\\nMoreover, not all patients have equal access to the technology required for telemedicine consultations. While smartphones and the internet have become ubiquitous in many areas, there are still populations that lack reliable access to these resources. This digital divide can exacerbate existing health disparities, as those without access to telemedicine services may miss out on critical healthcare support.\\\\n\\\\nPrivacy and security represent another significant concern in telemedicine. As consultations often involve sensitive medical information being transmitted over the internet, the potential for data breaches is a real risk. Healthcare providers must ensure that the platforms they use comply with stringent regulations regarding patient confidentiality, such as the Health Insurance Portability and Accountability Act (HIPAA) in the United States. Patients must also be educated about how to protect their personal information during virtual consultations.\\\\n\\\\nLooking forward, the future of telemedicine appears promising, with potential advancements poised to further enhance its role in healthcare. Innovations in technology, particularly in artificial intelligence (AI) and wearable devices, may significantly improve telemedicine services. AI tools could assist healthcare providers in diagnosing and monitoring patients remotely, analyzing vast amounts of data to provide insights that inform treatment decisions.\\\\n\\\\nWearable devices, such as smartwatches and fitness trackers, can collect and transmit real-time health data, including heart rate and oxygen saturation levels, to healthcare providers. This information could allow for more timely interventions and personalized care plans based on individual patient needs. For example, a patient with a chronic respiratory condition could be monitored continuously through a wearable device, alerting their provider to any concerning changes that may necessitate immediate attention.\\\\n\\\\nHowever, for telemedicine to realize its full potential, healthcare systems must address the challenges it currently faces. Ensuring equitable access to technology, implementing robust privacy protections, and integrating telemedicine into mainstream healthcare practices will be crucial for its long-term success. In conclusion, while telemedicine has the potential to revolutionize healthcare delivery, its effective implementation will require continued investment, adaptation, and collaboration among all stakeholders in the healthcare system.\", \"tasks\": [{\"task_type\": \"multiple_choice\", \"task\": \"What is one of the primary benefits of telemedicine highlighted in the passage?\", \"options\": [\"a) It eliminates the need for healthcare providers.\", \"b) It enhances patient accessibility to healthcare services.\", \"c) It guarantees accurate diagnoses for all conditions.\", \"d) It is only useful during pandemics.\"], \"correct_answer\": \"b) It enhances patient accessibility to healthcare services.\", \"explanation\": \"The passage emphasizes that telemedicine increases accessibility, especially for patients in rural or underserved areas.\"}, {\"task_type\": \"multiple_choice\", \"task\": \"What is a significant challenge of telemedicine as described in the passage?\", \"options\": [\"a) Patients have to travel long distances for consultations.\", \"b) There is a lack of physical examinations that can hinder accurate diagnosis.\", \"c) Telemedicine is not accepted by all healthcare providers.\", \"d) Telemedicine reduces patient-provider interactions.\"], \"correct_answer\": \"b) There is a lack of physical examinations that can hinder accurate diagnosis.\", \"explanation\": \"The passage states that the absence of physical examinations can lead to misdiagnoses or missed signs of serious conditions.\"}, {\"task_type\": \"multiple_choice\", \"task\": \"How might wearable devices impact telemedicine in the future according to the passage?\", \"options\": [\"a) By replacing healthcare providers.\", \"b) By providing real-time health data to healthcare providers.\", \"c) By limiting the types of consultations available.\", \"d) By reducing the costs of healthcare.\"], \"correct_answer\": \"b) By providing real-time health data to healthcare providers.\", \"explanation\": \"The passage mentions that wearable devices can transmit vital health information, facilitating timely interventions.\"}, {\"task_type\": \"multiple_choice\", \"task\": \"What does the passage suggest is necessary for the long-term success of telemedicine?\", \"options\": [\"a) Reducing the number of healthcare providers.\", \"b) Investment in technology and addressing privacy concerns.\", \"c) Limiting telemedicine to emergency cases only.\", \"d) Providing services only to urban populations.\"], \"correct_answer\": \"b) Investment in technology and addressing privacy concerns.\", \"explanation\": \"The passage indicates that addressing challenges like access to technology and privacy protections is essential for telemedicine\\'s future success.\"}], \"estimated_time\": \"12.5 minutes\"}'}\n"
     ]
    }
   ],
   "source": [
    "data_path = \"/content/OETReadingPartC.jsonl\"\n",
    "\n",
    "# Load the dataset\n",
    "with open(data_path, 'r', encoding='utf-8') as f:\n",
    "    dataset = [json.loads(line) for line in f]\n",
    "\n",
    "# Initial dataset stats\n",
    "print(\"Num examples:\", len(dataset))\n",
    "print(\"First example:\")\n",
    "for message in dataset[0][\"messages\"]:\n",
    "    print(message)"
   ]
  },
  {
   "cell_type": "code",
   "execution_count": 5,
   "metadata": {
    "colab": {
     "base_uri": "https://localhost:8080/"
    },
    "id": "gSriiBJeZB7R",
    "outputId": "ef731243-329e-4e95-dca3-e4e3ad4c53ac"
   },
   "outputs": [
    {
     "name": "stdout",
     "output_type": "stream",
     "text": [
      "No errors found\n"
     ]
    }
   ],
   "source": [
    "# Format error checks\n",
    "format_errors = defaultdict(int)\n",
    "\n",
    "for ex in dataset:\n",
    "    if not isinstance(ex, dict):\n",
    "        format_errors[\"data_type\"] += 1\n",
    "        continue\n",
    "\n",
    "    messages = ex.get(\"messages\", None)\n",
    "    if not messages:\n",
    "        format_errors[\"missing_messages_list\"] += 1\n",
    "        continue\n",
    "\n",
    "    for message in messages:\n",
    "        if \"role\" not in message or \"content\" not in message:\n",
    "            format_errors[\"message_missing_key\"] += 1\n",
    "\n",
    "        if any(k not in (\"role\", \"content\", \"name\", \"function_call\", \"weight\") for k in message):\n",
    "            format_errors[\"message_unrecognized_key\"] += 1\n",
    "\n",
    "        if message.get(\"role\", None) not in (\"system\", \"user\", \"assistant\", \"function\"):\n",
    "            format_errors[\"unrecognized_role\"] += 1\n",
    "\n",
    "        content = message.get(\"content\", None)\n",
    "        function_call = message.get(\"function_call\", None)\n",
    "\n",
    "        if (not content and not function_call) or not isinstance(content, str):\n",
    "            format_errors[\"missing_content\"] += 1\n",
    "\n",
    "    if not any(message.get(\"role\", None) == \"assistant\" for message in messages):\n",
    "        format_errors[\"example_missing_assistant_message\"] += 1\n",
    "\n",
    "if format_errors:\n",
    "    print(\"Found errors:\")\n",
    "    for k, v in format_errors.items():\n",
    "        print(f\"{k}: {v}\")\n",
    "else:\n",
    "    print(\"No errors found\")"
   ]
  },
  {
   "cell_type": "code",
   "execution_count": 6,
   "metadata": {
    "id": "2kj0nsRoZw9R"
   },
   "outputs": [],
   "source": [
    "encoding = tiktoken.get_encoding(\"cl100k_base\")\n",
    "\n",
    "# not exact!\n",
    "# simplified from https://github.com/openai/openai-cookbook/blob/main/examples/How_to_count_tokens_with_tiktoken.ipynb\n",
    "def num_tokens_from_messages(messages, tokens_per_message=3, tokens_per_name=1):\n",
    "    num_tokens = 0\n",
    "    for message in messages:\n",
    "        num_tokens += tokens_per_message\n",
    "        for key, value in message.items():\n",
    "            num_tokens += len(encoding.encode(value))\n",
    "            if key == \"name\":\n",
    "                num_tokens += tokens_per_name\n",
    "    num_tokens += 3\n",
    "    return num_tokens\n",
    "\n",
    "def num_assistant_tokens_from_messages(messages):\n",
    "    num_tokens = 0\n",
    "    for message in messages:\n",
    "        if message[\"role\"] == \"assistant\":\n",
    "            num_tokens += len(encoding.encode(message[\"content\"]))\n",
    "    return num_tokens\n",
    "\n",
    "def print_distribution(values, name):\n",
    "    print(f\"\\n#### Distribution of {name}:\")\n",
    "    print(f\"min / max: {min(values)}, {max(values)}\")\n",
    "    print(f\"mean / median: {np.mean(values)}, {np.median(values)}\")\n",
    "    print(f\"p5 / p95: {np.quantile(values, 0.1)}, {np.quantile(values, 0.9)}\")"
   ]
  },
  {
   "cell_type": "code",
   "execution_count": 7,
   "metadata": {
    "colab": {
     "base_uri": "https://localhost:8080/"
    },
    "id": "X7QVZrboZxAG",
    "outputId": "888519c1-ff26-4e6e-e40c-ddc0b283b420"
   },
   "outputs": [
    {
     "name": "stdout",
     "output_type": "stream",
     "text": [
      "Num examples missing system message: 0\n",
      "Num examples missing user message: 0\n",
      "\n",
      "#### Distribution of num_messages_per_example:\n",
      "min / max: 3, 3\n",
      "mean / median: 3.0, 3.0\n",
      "p5 / p95: 3.0, 3.0\n",
      "\n",
      "#### Distribution of num_total_tokens_per_example:\n",
      "min / max: 1240, 1373\n",
      "mean / median: 1331.1, 1345.0\n",
      "p5 / p95: 1283.2, 1359.5\n",
      "\n",
      "#### Distribution of num_assistant_tokens_per_example:\n",
      "min / max: 1161, 1293\n",
      "mean / median: 1252.6, 1260.0\n",
      "p5 / p95: 1203.3, 1284.9\n",
      "\n",
      "0 examples may be over the 16,385 token limit, they will be truncated during fine-tuning\n"
     ]
    }
   ],
   "source": [
    "# Warnings and tokens counts\n",
    "n_missing_system = 0\n",
    "n_missing_user = 0\n",
    "n_messages = []\n",
    "convo_lens = []\n",
    "assistant_message_lens = []\n",
    "\n",
    "for ex in dataset:\n",
    "    messages = ex[\"messages\"]\n",
    "    if not any(message[\"role\"] == \"system\" for message in messages):\n",
    "        n_missing_system += 1\n",
    "    if not any(message[\"role\"] == \"user\" for message in messages):\n",
    "        n_missing_user += 1\n",
    "    n_messages.append(len(messages))\n",
    "    convo_lens.append(num_tokens_from_messages(messages))\n",
    "    assistant_message_lens.append(num_assistant_tokens_from_messages(messages))\n",
    "\n",
    "print(\"Num examples missing system message:\", n_missing_system)\n",
    "print(\"Num examples missing user message:\", n_missing_user)\n",
    "print_distribution(n_messages, \"num_messages_per_example\")\n",
    "print_distribution(convo_lens, \"num_total_tokens_per_example\")\n",
    "print_distribution(assistant_message_lens, \"num_assistant_tokens_per_example\")\n",
    "n_too_long = sum(l > 16385 for l in convo_lens)\n",
    "print(f\"\\n{n_too_long} examples may be over the 16,385 token limit, they will be truncated during fine-tuning\")"
   ]
  },
  {
   "cell_type": "code",
   "execution_count": 8,
   "metadata": {
    "colab": {
     "base_uri": "https://localhost:8080/"
    },
    "id": "aQCH_L6SaC-q",
    "outputId": "92741a21-aca9-422a-99ff-4519ba2ea951"
   },
   "outputs": [
    {
     "name": "stdout",
     "output_type": "stream",
     "text": [
      "Dataset has ~13311 tokens that will be charged for during training\n",
      "By default, you'll train for 10 epochs on this dataset\n",
      "By default, you'll be charged for ~133110 tokens\n"
     ]
    }
   ],
   "source": [
    "# Pricing and default n_epochs estimate\n",
    "MAX_TOKENS_PER_EXAMPLE = 16385\n",
    "\n",
    "TARGET_EPOCHS = 3\n",
    "MIN_TARGET_EXAMPLES = 100\n",
    "MAX_TARGET_EXAMPLES = 25000\n",
    "MIN_DEFAULT_EPOCHS = 1\n",
    "MAX_DEFAULT_EPOCHS = 25\n",
    "\n",
    "n_epochs = TARGET_EPOCHS\n",
    "n_train_examples = len(dataset)\n",
    "if n_train_examples * TARGET_EPOCHS < MIN_TARGET_EXAMPLES:\n",
    "    n_epochs = min(MAX_DEFAULT_EPOCHS, MIN_TARGET_EXAMPLES // n_train_examples)\n",
    "elif n_train_examples * TARGET_EPOCHS > MAX_TARGET_EXAMPLES:\n",
    "    n_epochs = max(MIN_DEFAULT_EPOCHS, MAX_TARGET_EXAMPLES // n_train_examples)\n",
    "\n",
    "n_billing_tokens_in_dataset = sum(min(MAX_TOKENS_PER_EXAMPLE, length) for length in convo_lens)\n",
    "print(f\"Dataset has ~{n_billing_tokens_in_dataset} tokens that will be charged for during training\")\n",
    "print(f\"By default, you'll train for {n_epochs} epochs on this dataset\")\n",
    "print(f\"By default, you'll be charged for ~{n_epochs * n_billing_tokens_in_dataset} tokens\")"
   ]
  },
  {
   "cell_type": "code",
   "execution_count": null,
   "metadata": {
    "id": "2YQ2nQPLqRpa"
   },
   "outputs": [],
   "source": []
  }
 ],
 "metadata": {
  "colab": {
   "provenance": []
  },
  "kernelspec": {
   "display_name": "venv",
   "language": "python",
   "name": "python3"
  },
  "language_info": {
   "codemirror_mode": {
    "name": "ipython",
    "version": 3
   },
   "file_extension": ".py",
   "mimetype": "text/x-python",
   "name": "python",
   "nbconvert_exporter": "python",
   "pygments_lexer": "ipython3",
   "version": "3.12.5"
  }
 },
 "nbformat": 4,
 "nbformat_minor": 0
}
