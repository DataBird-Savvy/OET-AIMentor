{
 "cells": [
  {
   "cell_type": "code",
   "execution_count": 1,
   "metadata": {
    "colab": {
     "base_uri": "https://localhost:8080/"
    },
    "id": "Miyx9dIq029k",
    "outputId": "e40e49e0-22d9-4381-9410-badb69eb922a"
   },
   "outputs": [
    {
     "name": "stdout",
     "output_type": "stream",
     "text": [
      "Defaulting to user installation because normal site-packages is not writeable\n",
      "Requirement already satisfied: pinecone-client in c:\\users\\user\\appdata\\roaming\\python\\python311\\site-packages (5.0.1)\n",
      "Requirement already satisfied: certifi>=2019.11.17 in c:\\users\\user\\appdata\\roaming\\python\\python311\\site-packages (from pinecone-client) (2024.8.30)\n",
      "Requirement already satisfied: pinecone-plugin-inference<2.0.0,>=1.0.3 in c:\\users\\user\\appdata\\roaming\\python\\python311\\site-packages (from pinecone-client) (1.1.0)\n",
      "Requirement already satisfied: pinecone-plugin-interface<0.0.8,>=0.0.7 in c:\\users\\user\\appdata\\roaming\\python\\python311\\site-packages (from pinecone-client) (0.0.7)\n",
      "Requirement already satisfied: tqdm>=4.64.1 in c:\\users\\user\\appdata\\roaming\\python\\python311\\site-packages (from pinecone-client) (4.67.0)\n",
      "Requirement already satisfied: typing-extensions>=3.7.4 in c:\\users\\user\\appdata\\roaming\\python\\python311\\site-packages (from pinecone-client) (4.12.2)\n",
      "Requirement already satisfied: urllib3>=1.26.0 in c:\\users\\user\\appdata\\roaming\\python\\python311\\site-packages (from pinecone-client) (2.2.3)\n",
      "Requirement already satisfied: colorama in d:\\programdata\\anaconda3\\envs\\venv\\lib\\site-packages (from tqdm>=4.64.1->pinecone-client) (0.4.6)\n"
     ]
    }
   ],
   "source": [
    "!pip install pinecone-client"
   ]
  },
  {
   "cell_type": "code",
   "execution_count": 2,
   "metadata": {
    "colab": {
     "base_uri": "https://localhost:8080/"
    },
    "id": "KHfU4F0t31le",
    "outputId": "af2267da-f96f-4fc4-cf33-6068f773a0d3"
   },
   "outputs": [
    {
     "name": "stderr",
     "output_type": "stream",
     "text": [
      "  WARNING: The script filetype.exe is installed in 'C:\\Users\\user\\AppData\\Roaming\\Python\\Python311\\Scripts' which is not on PATH.\n",
      "  Consider adding this directory to PATH or, if you prefer to suppress this warning, use --no-warn-script-location.\n"
     ]
    }
   ],
   "source": [
    "!pip install --upgrade --quiet  langchain-google-genai"
   ]
  },
  {
   "cell_type": "code",
   "execution_count": 3,
   "metadata": {
    "colab": {
     "base_uri": "https://localhost:8080/"
    },
    "id": "Z4Kalc6p4GDo",
    "outputId": "e9cd3650-c24f-4da4-9747-e1acb951cc9b"
   },
   "outputs": [
    {
     "name": "stdout",
     "output_type": "stream",
     "text": [
      "Defaulting to user installation because normal site-packages is not writeable\n",
      "Collecting langchain-community\n",
      "  Downloading langchain_community-0.3.12-py3-none-any.whl.metadata (2.9 kB)\n",
      "Requirement already satisfied: PyYAML>=5.3 in c:\\users\\user\\appdata\\roaming\\python\\python311\\site-packages (from langchain-community) (6.0.2)\n",
      "Requirement already satisfied: SQLAlchemy<3,>=1.4 in c:\\users\\user\\appdata\\roaming\\python\\python311\\site-packages (from langchain-community) (2.0.36)\n",
      "Requirement already satisfied: aiohttp<4.0.0,>=3.8.3 in c:\\users\\user\\appdata\\roaming\\python\\python311\\site-packages (from langchain-community) (3.11.7)\n",
      "Collecting dataclasses-json<0.7,>=0.5.7 (from langchain-community)\n",
      "  Using cached dataclasses_json-0.6.7-py3-none-any.whl.metadata (25 kB)\n",
      "Collecting httpx-sse<0.5.0,>=0.4.0 (from langchain-community)\n",
      "  Using cached httpx_sse-0.4.0-py3-none-any.whl.metadata (9.0 kB)\n",
      "Collecting langchain<0.4.0,>=0.3.12 (from langchain-community)\n",
      "  Downloading langchain-0.3.13-py3-none-any.whl.metadata (7.1 kB)\n",
      "Collecting langchain-core<0.4.0,>=0.3.25 (from langchain-community)\n",
      "  Downloading langchain_core-0.3.27-py3-none-any.whl.metadata (6.3 kB)\n",
      "Requirement already satisfied: langsmith<0.3,>=0.1.125 in c:\\users\\user\\appdata\\roaming\\python\\python311\\site-packages (from langchain-community) (0.1.145)\n",
      "Requirement already satisfied: numpy<2,>=1.22.4 in c:\\users\\user\\appdata\\roaming\\python\\python311\\site-packages (from langchain-community) (1.26.4)\n",
      "Collecting pydantic-settings<3.0.0,>=2.4.0 (from langchain-community)\n",
      "  Downloading pydantic_settings-2.7.0-py3-none-any.whl.metadata (3.5 kB)\n",
      "Requirement already satisfied: requests<3,>=2 in c:\\users\\user\\appdata\\roaming\\python\\python311\\site-packages (from langchain-community) (2.32.3)\n",
      "Requirement already satisfied: tenacity!=8.4.0,<10,>=8.1.0 in c:\\users\\user\\appdata\\roaming\\python\\python311\\site-packages (from langchain-community) (9.0.0)\n",
      "Requirement already satisfied: aiohappyeyeballs>=2.3.0 in c:\\users\\user\\appdata\\roaming\\python\\python311\\site-packages (from aiohttp<4.0.0,>=3.8.3->langchain-community) (2.4.3)\n",
      "Requirement already satisfied: aiosignal>=1.1.2 in c:\\users\\user\\appdata\\roaming\\python\\python311\\site-packages (from aiohttp<4.0.0,>=3.8.3->langchain-community) (1.3.1)\n",
      "Requirement already satisfied: attrs>=17.3.0 in c:\\users\\user\\appdata\\roaming\\python\\python311\\site-packages (from aiohttp<4.0.0,>=3.8.3->langchain-community) (24.2.0)\n",
      "Requirement already satisfied: frozenlist>=1.1.1 in c:\\users\\user\\appdata\\roaming\\python\\python311\\site-packages (from aiohttp<4.0.0,>=3.8.3->langchain-community) (1.5.0)\n",
      "Requirement already satisfied: multidict<7.0,>=4.5 in c:\\users\\user\\appdata\\roaming\\python\\python311\\site-packages (from aiohttp<4.0.0,>=3.8.3->langchain-community) (6.1.0)\n",
      "Requirement already satisfied: propcache>=0.2.0 in c:\\users\\user\\appdata\\roaming\\python\\python311\\site-packages (from aiohttp<4.0.0,>=3.8.3->langchain-community) (0.2.0)\n",
      "Requirement already satisfied: yarl<2.0,>=1.17.0 in c:\\users\\user\\appdata\\roaming\\python\\python311\\site-packages (from aiohttp<4.0.0,>=3.8.3->langchain-community) (1.18.0)\n",
      "Collecting marshmallow<4.0.0,>=3.18.0 (from dataclasses-json<0.7,>=0.5.7->langchain-community)\n",
      "  Downloading marshmallow-3.23.2-py3-none-any.whl.metadata (7.1 kB)\n",
      "Collecting typing-inspect<1,>=0.4.0 (from dataclasses-json<0.7,>=0.5.7->langchain-community)\n",
      "  Using cached typing_inspect-0.9.0-py3-none-any.whl.metadata (1.5 kB)\n",
      "Collecting langchain-text-splitters<0.4.0,>=0.3.3 (from langchain<0.4.0,>=0.3.12->langchain-community)\n",
      "  Downloading langchain_text_splitters-0.3.4-py3-none-any.whl.metadata (2.3 kB)\n",
      "Requirement already satisfied: pydantic<3.0.0,>=2.7.4 in c:\\users\\user\\appdata\\roaming\\python\\python311\\site-packages (from langchain<0.4.0,>=0.3.12->langchain-community) (2.10.1)\n",
      "Requirement already satisfied: jsonpatch<2.0,>=1.33 in c:\\users\\user\\appdata\\roaming\\python\\python311\\site-packages (from langchain-core<0.4.0,>=0.3.25->langchain-community) (1.33)\n",
      "Requirement already satisfied: packaging<25,>=23.2 in c:\\users\\user\\appdata\\roaming\\python\\python311\\site-packages (from langchain-core<0.4.0,>=0.3.25->langchain-community) (24.2)\n",
      "Requirement already satisfied: typing-extensions>=4.7 in c:\\users\\user\\appdata\\roaming\\python\\python311\\site-packages (from langchain-core<0.4.0,>=0.3.25->langchain-community) (4.12.2)\n",
      "Requirement already satisfied: httpx<1,>=0.23.0 in c:\\users\\user\\appdata\\roaming\\python\\python311\\site-packages (from langsmith<0.3,>=0.1.125->langchain-community) (0.27.0)\n",
      "Requirement already satisfied: orjson<4.0.0,>=3.9.14 in c:\\users\\user\\appdata\\roaming\\python\\python311\\site-packages (from langsmith<0.3,>=0.1.125->langchain-community) (3.10.12)\n",
      "Requirement already satisfied: requests-toolbelt<2.0.0,>=1.0.0 in c:\\users\\user\\appdata\\roaming\\python\\python311\\site-packages (from langsmith<0.3,>=0.1.125->langchain-community) (1.0.0)\n",
      "Collecting python-dotenv>=0.21.0 (from pydantic-settings<3.0.0,>=2.4.0->langchain-community)\n",
      "  Using cached python_dotenv-1.0.1-py3-none-any.whl.metadata (23 kB)\n",
      "Requirement already satisfied: charset-normalizer<4,>=2 in c:\\users\\user\\appdata\\roaming\\python\\python311\\site-packages (from requests<3,>=2->langchain-community) (3.4.0)\n",
      "Requirement already satisfied: idna<4,>=2.5 in d:\\programdata\\anaconda3\\envs\\venv\\lib\\site-packages (from requests<3,>=2->langchain-community) (3.4)\n",
      "Requirement already satisfied: urllib3<3,>=1.21.1 in c:\\users\\user\\appdata\\roaming\\python\\python311\\site-packages (from requests<3,>=2->langchain-community) (2.2.3)\n",
      "Requirement already satisfied: certifi>=2017.4.17 in c:\\users\\user\\appdata\\roaming\\python\\python311\\site-packages (from requests<3,>=2->langchain-community) (2024.8.30)\n",
      "Requirement already satisfied: greenlet!=0.4.17 in c:\\users\\user\\appdata\\roaming\\python\\python311\\site-packages (from SQLAlchemy<3,>=1.4->langchain-community) (3.1.1)\n",
      "Requirement already satisfied: anyio in d:\\programdata\\anaconda3\\envs\\venv\\lib\\site-packages (from httpx<1,>=0.23.0->langsmith<0.3,>=0.1.125->langchain-community) (3.5.0)\n",
      "Requirement already satisfied: httpcore==1.* in c:\\users\\user\\appdata\\roaming\\python\\python311\\site-packages (from httpx<1,>=0.23.0->langsmith<0.3,>=0.1.125->langchain-community) (1.0.5)\n",
      "Requirement already satisfied: sniffio in c:\\users\\user\\appdata\\roaming\\python\\python311\\site-packages (from httpx<1,>=0.23.0->langsmith<0.3,>=0.1.125->langchain-community) (1.3.1)\n",
      "Requirement already satisfied: h11<0.15,>=0.13 in c:\\users\\user\\appdata\\roaming\\python\\python311\\site-packages (from httpcore==1.*->httpx<1,>=0.23.0->langsmith<0.3,>=0.1.125->langchain-community) (0.14.0)\n",
      "Requirement already satisfied: jsonpointer>=1.9 in c:\\users\\user\\appdata\\roaming\\python\\python311\\site-packages (from jsonpatch<2.0,>=1.33->langchain-core<0.4.0,>=0.3.25->langchain-community) (3.0.0)\n",
      "Requirement already satisfied: annotated-types>=0.6.0 in c:\\users\\user\\appdata\\roaming\\python\\python311\\site-packages (from pydantic<3.0.0,>=2.7.4->langchain<0.4.0,>=0.3.12->langchain-community) (0.7.0)\n",
      "Requirement already satisfied: pydantic-core==2.27.1 in c:\\users\\user\\appdata\\roaming\\python\\python311\\site-packages (from pydantic<3.0.0,>=2.7.4->langchain<0.4.0,>=0.3.12->langchain-community) (2.27.1)\n",
      "Collecting mypy-extensions>=0.3.0 (from typing-inspect<1,>=0.4.0->dataclasses-json<0.7,>=0.5.7->langchain-community)\n",
      "  Using cached mypy_extensions-1.0.0-py3-none-any.whl.metadata (1.1 kB)\n",
      "Downloading langchain_community-0.3.12-py3-none-any.whl (2.5 MB)\n",
      "   ---------------------------------------- 0.0/2.5 MB ? eta -:--:--\n",
      "    --------------------------------------- 0.0/2.5 MB 991.0 kB/s eta 0:00:03\n",
      "   ---- ----------------------------------- 0.3/2.5 MB 3.0 MB/s eta 0:00:01\n",
      "   -------- ------------------------------- 0.5/2.5 MB 3.7 MB/s eta 0:00:01\n",
      "   ------------ --------------------------- 0.8/2.5 MB 4.6 MB/s eta 0:00:01\n",
      "   ----------------- ---------------------- 1.1/2.5 MB 4.6 MB/s eta 0:00:01\n",
      "   --------------------- ------------------ 1.3/2.5 MB 4.7 MB/s eta 0:00:01\n",
      "   ------------------------ --------------- 1.5/2.5 MB 4.7 MB/s eta 0:00:01\n",
      "   --------------------------- ------------ 1.7/2.5 MB 4.5 MB/s eta 0:00:01\n",
      "   ------------------------------ --------- 1.9/2.5 MB 4.5 MB/s eta 0:00:01\n",
      "   --------------------------------- ------ 2.1/2.5 MB 4.4 MB/s eta 0:00:01\n",
      "   ------------------------------------ --- 2.3/2.5 MB 4.4 MB/s eta 0:00:01\n",
      "   ---------------------------------------  2.4/2.5 MB 4.3 MB/s eta 0:00:01\n",
      "   ---------------------------------------- 2.5/2.5 MB 4.3 MB/s eta 0:00:00\n",
      "Using cached dataclasses_json-0.6.7-py3-none-any.whl (28 kB)\n",
      "Using cached httpx_sse-0.4.0-py3-none-any.whl (7.8 kB)\n",
      "Downloading langchain-0.3.13-py3-none-any.whl (1.0 MB)\n",
      "   ---------------------------------------- 0.0/1.0 MB ? eta -:--:--\n",
      "   ----------- ---------------------------- 0.3/1.0 MB 5.9 MB/s eta 0:00:01\n",
      "   ------------------------ --------------- 0.6/1.0 MB 6.4 MB/s eta 0:00:01\n",
      "   ------------------------------------ --- 0.9/1.0 MB 7.4 MB/s eta 0:00:01\n",
      "   ---------------------------------------- 1.0/1.0 MB 5.8 MB/s eta 0:00:00\n",
      "Downloading langchain_core-0.3.27-py3-none-any.whl (411 kB)\n",
      "   ---------------------------------------- 0.0/411.5 kB ? eta -:--:--\n",
      "   --------------------------- ------------ 286.7/411.5 kB 8.9 MB/s eta 0:00:01\n",
      "   ---------------------------------------- 411.5/411.5 kB 6.4 MB/s eta 0:00:00\n",
      "Downloading pydantic_settings-2.7.0-py3-none-any.whl (29 kB)\n",
      "Downloading langchain_text_splitters-0.3.4-py3-none-any.whl (27 kB)\n",
      "Downloading marshmallow-3.23.2-py3-none-any.whl (49 kB)\n",
      "   ---------------------------------------- 0.0/49.3 kB ? eta -:--:--\n",
      "   ---------------------------------------- 49.3/49.3 kB 2.4 MB/s eta 0:00:00\n",
      "Using cached python_dotenv-1.0.1-py3-none-any.whl (19 kB)\n",
      "Using cached typing_inspect-0.9.0-py3-none-any.whl (8.8 kB)\n",
      "Using cached mypy_extensions-1.0.0-py3-none-any.whl (4.7 kB)\n",
      "Installing collected packages: python-dotenv, mypy-extensions, marshmallow, httpx-sse, typing-inspect, pydantic-settings, dataclasses-json, langchain-core, langchain-text-splitters, langchain, langchain-community\n",
      "  Attempting uninstall: langchain-core\n",
      "    Found existing installation: langchain-core 0.3.21\n",
      "    Uninstalling langchain-core-0.3.21:\n",
      "      Successfully uninstalled langchain-core-0.3.21\n",
      "  Attempting uninstall: langchain-text-splitters\n",
      "    Found existing installation: langchain-text-splitters 0.3.2\n",
      "    Uninstalling langchain-text-splitters-0.3.2:\n",
      "      Successfully uninstalled langchain-text-splitters-0.3.2\n",
      "  Attempting uninstall: langchain\n",
      "    Found existing installation: langchain 0.3.8\n",
      "    Uninstalling langchain-0.3.8:\n",
      "      Successfully uninstalled langchain-0.3.8\n",
      "Successfully installed dataclasses-json-0.6.7 httpx-sse-0.4.0 langchain-0.3.13 langchain-community-0.3.12 langchain-core-0.3.27 langchain-text-splitters-0.3.4 marshmallow-3.23.2 mypy-extensions-1.0.0 pydantic-settings-2.7.0 python-dotenv-1.0.1 typing-inspect-0.9.0\n"
     ]
    },
    {
     "name": "stderr",
     "output_type": "stream",
     "text": [
      "  WARNING: The script dotenv.exe is installed in 'C:\\Users\\user\\AppData\\Roaming\\Python\\Python311\\Scripts' which is not on PATH.\n",
      "  Consider adding this directory to PATH or, if you prefer to suppress this warning, use --no-warn-script-location.\n",
      "  WARNING: The script langchain-server.exe is installed in 'C:\\Users\\user\\AppData\\Roaming\\Python\\Python311\\Scripts' which is not on PATH.\n",
      "  Consider adding this directory to PATH or, if you prefer to suppress this warning, use --no-warn-script-location.\n"
     ]
    }
   ],
   "source": [
    "!pip install -U langchain-community"
   ]
  },
  {
   "cell_type": "code",
   "execution_count": 6,
   "metadata": {
    "id": "rGLNwVg84CyL"
   },
   "outputs": [],
   "source": [
    "import pinecone\n",
    "from langchain.document_loaders import PyPDFDirectoryLoader\n",
    "from langchain.text_splitter import RecursiveCharacterTextSplitter"
   ]
  },
  {
   "cell_type": "code",
   "execution_count": 7,
   "metadata": {
    "id": "YeFEUZn61uOU"
   },
   "outputs": [],
   "source": [
    "from langchain_google_genai import GoogleGenerativeAIEmbeddings\n",
    "\n",
    "embeddings = GoogleGenerativeAIEmbeddings(model=\"models/embedding-001\")"
   ]
  },
  {
   "cell_type": "code",
   "execution_count": 5,
   "metadata": {
    "id": "P18Xfz8a4hZ2"
   },
   "outputs": [],
   "source": [
    "def read_doc(directory):\n",
    "    file_loader=PyPDFDirectoryLoader(directory)\n",
    "    documents=file_loader.load()\n",
    "    return documents"
   ]
  },
  {
   "cell_type": "code",
   "execution_count": 7,
   "metadata": {
    "colab": {
     "base_uri": "https://localhost:8080/"
    },
    "id": "kpElnaiQ4q6l",
    "outputId": "4a8e733a-239e-405a-c041-7153afadc3b3"
   },
   "outputs": [
    {
     "name": "stdout",
     "output_type": "stream",
     "text": [
      "Defaulting to user installation because normal site-packages is not writeable\n",
      "Collecting pypdf\n",
      "  Downloading pypdf-5.1.0-py3-none-any.whl.metadata (7.2 kB)\n",
      "Downloading pypdf-5.1.0-py3-none-any.whl (297 kB)\n",
      "   ---------------------------------------- 0.0/298.0 kB ? eta -:--:--\n",
      "   ---------------------------------------- 0.0/298.0 kB ? eta -:--:--\n",
      "   - -------------------------------------- 10.2/298.0 kB ? eta -:--:--\n",
      "   -------- ------------------------------ 61.4/298.0 kB 656.4 kB/s eta 0:00:01\n",
      "   ----------------------- ---------------- 174.1/298.0 kB 1.5 MB/s eta 0:00:01\n",
      "   ---------------------------------------- 298.0/298.0 kB 1.8 MB/s eta 0:00:00\n",
      "Installing collected packages: pypdf\n",
      "Successfully installed pypdf-5.1.0\n"
     ]
    }
   ],
   "source": [
    "!pip install pypdf"
   ]
  },
  {
   "cell_type": "code",
   "execution_count": 8,
   "metadata": {
    "colab": {
     "base_uri": "https://localhost:8080/"
    },
    "id": "PJOelzTY12hk",
    "outputId": "3afe5884-29f5-44cf-8258-cd6bb7c5859f"
   },
   "outputs": [
    {
     "data": {
      "text/plain": [
       "0"
      ]
     },
     "execution_count": 8,
     "metadata": {},
     "output_type": "execute_result"
    }
   ],
   "source": [
    "doc=read_doc('/content/sample_data/pdfs')\n",
    "len(doc)\n"
   ]
  },
  {
   "cell_type": "code",
   "execution_count": 9,
   "metadata": {
    "id": "YjIuHRoU4zV6"
   },
   "outputs": [],
   "source": [
    "def chunk_data(docs,chunk_size=500,chunk_overlap=50):\n",
    "    text_splitter=RecursiveCharacterTextSplitter(chunk_size=chunk_size,chunk_overlap=chunk_overlap)\n",
    "    doc=text_splitter.split_documents(docs)\n",
    "    return docs"
   ]
  },
  {
   "cell_type": "code",
   "execution_count": 10,
   "metadata": {
    "colab": {
     "base_uri": "https://localhost:8080/"
    },
    "id": "QG6-lZyp42LQ",
    "outputId": "5aa858c0-2dcb-4717-dd83-2473dea79e5d"
   },
   "outputs": [
    {
     "data": {
      "text/plain": [
       "0"
      ]
     },
     "execution_count": 10,
     "metadata": {},
     "output_type": "execute_result"
    }
   ],
   "source": [
    "documents=chunk_data(docs=doc)\n",
    "len(documents)"
   ]
  },
  {
   "cell_type": "code",
   "execution_count": 6,
   "metadata": {
    "id": "e84bTPx46i7L"
   },
   "outputs": [],
   "source": [
    "from pinecone import Pinecone\n",
    "\n",
    "pc = Pinecone(api_key=\"pcsk_4eZMH3_A9UiZwxMZNXuwkWbuSRhKLUtdjuxoaRNwNcQ6gMDyC1SxMxLvXhKEYQQF6BE5Q8\")\n",
    "index = pc.Index(\"oet-partc-content\")"
   ]
  },
  {
   "cell_type": "code",
   "execution_count": 12,
   "metadata": {
    "colab": {
     "base_uri": "https://localhost:8080/"
    },
    "id": "S0wSknCk7kIv",
    "outputId": "18008bd5-06c8-4d63-a286-39dfce429389"
   },
   "outputs": [
    {
     "name": "stdout",
     "output_type": "stream",
     "text": [
      "Defaulting to user installation because normal site-packages is not writeable\n",
      "Collecting langchain-pinecone\n",
      "  Using cached langchain_pinecone-0.2.0-py3-none-any.whl.metadata (1.7 kB)\n",
      "Collecting aiohttp<3.10,>=3.9.5 (from langchain-pinecone)\n",
      "  Downloading aiohttp-3.9.5-cp311-cp311-win_amd64.whl.metadata (7.7 kB)\n",
      "Requirement already satisfied: langchain-core<0.4,>=0.3 in c:\\users\\user\\appdata\\roaming\\python\\python311\\site-packages (from langchain-pinecone) (0.3.27)\n",
      "Requirement already satisfied: numpy<2,>=1 in c:\\users\\user\\appdata\\roaming\\python\\python311\\site-packages (from langchain-pinecone) (1.26.4)\n",
      "Requirement already satisfied: pinecone-client<6.0.0,>=5.0.0 in c:\\users\\user\\appdata\\roaming\\python\\python311\\site-packages (from langchain-pinecone) (5.0.1)\n",
      "Requirement already satisfied: aiosignal>=1.1.2 in c:\\users\\user\\appdata\\roaming\\python\\python311\\site-packages (from aiohttp<3.10,>=3.9.5->langchain-pinecone) (1.3.1)\n",
      "Requirement already satisfied: attrs>=17.3.0 in c:\\users\\user\\appdata\\roaming\\python\\python311\\site-packages (from aiohttp<3.10,>=3.9.5->langchain-pinecone) (24.2.0)\n",
      "Requirement already satisfied: frozenlist>=1.1.1 in c:\\users\\user\\appdata\\roaming\\python\\python311\\site-packages (from aiohttp<3.10,>=3.9.5->langchain-pinecone) (1.5.0)\n",
      "Requirement already satisfied: multidict<7.0,>=4.5 in c:\\users\\user\\appdata\\roaming\\python\\python311\\site-packages (from aiohttp<3.10,>=3.9.5->langchain-pinecone) (6.1.0)\n",
      "Requirement already satisfied: yarl<2.0,>=1.0 in c:\\users\\user\\appdata\\roaming\\python\\python311\\site-packages (from aiohttp<3.10,>=3.9.5->langchain-pinecone) (1.18.0)\n",
      "Requirement already satisfied: PyYAML>=5.3 in c:\\users\\user\\appdata\\roaming\\python\\python311\\site-packages (from langchain-core<0.4,>=0.3->langchain-pinecone) (6.0.2)\n",
      "Requirement already satisfied: jsonpatch<2.0,>=1.33 in c:\\users\\user\\appdata\\roaming\\python\\python311\\site-packages (from langchain-core<0.4,>=0.3->langchain-pinecone) (1.33)\n",
      "Requirement already satisfied: langsmith<0.3,>=0.1.125 in c:\\users\\user\\appdata\\roaming\\python\\python311\\site-packages (from langchain-core<0.4,>=0.3->langchain-pinecone) (0.1.145)\n",
      "Requirement already satisfied: packaging<25,>=23.2 in c:\\users\\user\\appdata\\roaming\\python\\python311\\site-packages (from langchain-core<0.4,>=0.3->langchain-pinecone) (24.2)\n",
      "Requirement already satisfied: pydantic<3.0.0,>=2.5.2 in c:\\users\\user\\appdata\\roaming\\python\\python311\\site-packages (from langchain-core<0.4,>=0.3->langchain-pinecone) (2.10.1)\n",
      "Requirement already satisfied: tenacity!=8.4.0,<10.0.0,>=8.1.0 in c:\\users\\user\\appdata\\roaming\\python\\python311\\site-packages (from langchain-core<0.4,>=0.3->langchain-pinecone) (9.0.0)\n",
      "Requirement already satisfied: typing-extensions>=4.7 in c:\\users\\user\\appdata\\roaming\\python\\python311\\site-packages (from langchain-core<0.4,>=0.3->langchain-pinecone) (4.12.2)\n",
      "Requirement already satisfied: certifi>=2019.11.17 in c:\\users\\user\\appdata\\roaming\\python\\python311\\site-packages (from pinecone-client<6.0.0,>=5.0.0->langchain-pinecone) (2024.8.30)\n",
      "Requirement already satisfied: pinecone-plugin-inference<2.0.0,>=1.0.3 in c:\\users\\user\\appdata\\roaming\\python\\python311\\site-packages (from pinecone-client<6.0.0,>=5.0.0->langchain-pinecone) (1.1.0)\n",
      "Requirement already satisfied: pinecone-plugin-interface<0.0.8,>=0.0.7 in c:\\users\\user\\appdata\\roaming\\python\\python311\\site-packages (from pinecone-client<6.0.0,>=5.0.0->langchain-pinecone) (0.0.7)\n",
      "Requirement already satisfied: tqdm>=4.64.1 in c:\\users\\user\\appdata\\roaming\\python\\python311\\site-packages (from pinecone-client<6.0.0,>=5.0.0->langchain-pinecone) (4.67.0)\n",
      "Requirement already satisfied: urllib3>=1.26.0 in c:\\users\\user\\appdata\\roaming\\python\\python311\\site-packages (from pinecone-client<6.0.0,>=5.0.0->langchain-pinecone) (2.2.3)\n",
      "Requirement already satisfied: jsonpointer>=1.9 in c:\\users\\user\\appdata\\roaming\\python\\python311\\site-packages (from jsonpatch<2.0,>=1.33->langchain-core<0.4,>=0.3->langchain-pinecone) (3.0.0)\n",
      "Requirement already satisfied: httpx<1,>=0.23.0 in c:\\users\\user\\appdata\\roaming\\python\\python311\\site-packages (from langsmith<0.3,>=0.1.125->langchain-core<0.4,>=0.3->langchain-pinecone) (0.27.0)\n",
      "Requirement already satisfied: orjson<4.0.0,>=3.9.14 in c:\\users\\user\\appdata\\roaming\\python\\python311\\site-packages (from langsmith<0.3,>=0.1.125->langchain-core<0.4,>=0.3->langchain-pinecone) (3.10.12)\n",
      "Requirement already satisfied: requests<3,>=2 in c:\\users\\user\\appdata\\roaming\\python\\python311\\site-packages (from langsmith<0.3,>=0.1.125->langchain-core<0.4,>=0.3->langchain-pinecone) (2.32.3)\n",
      "Requirement already satisfied: requests-toolbelt<2.0.0,>=1.0.0 in c:\\users\\user\\appdata\\roaming\\python\\python311\\site-packages (from langsmith<0.3,>=0.1.125->langchain-core<0.4,>=0.3->langchain-pinecone) (1.0.0)\n",
      "Requirement already satisfied: annotated-types>=0.6.0 in c:\\users\\user\\appdata\\roaming\\python\\python311\\site-packages (from pydantic<3.0.0,>=2.5.2->langchain-core<0.4,>=0.3->langchain-pinecone) (0.7.0)\n",
      "Requirement already satisfied: pydantic-core==2.27.1 in c:\\users\\user\\appdata\\roaming\\python\\python311\\site-packages (from pydantic<3.0.0,>=2.5.2->langchain-core<0.4,>=0.3->langchain-pinecone) (2.27.1)\n",
      "Requirement already satisfied: colorama in d:\\programdata\\anaconda3\\envs\\venv\\lib\\site-packages (from tqdm>=4.64.1->pinecone-client<6.0.0,>=5.0.0->langchain-pinecone) (0.4.6)\n",
      "Requirement already satisfied: idna>=2.0 in d:\\programdata\\anaconda3\\envs\\venv\\lib\\site-packages (from yarl<2.0,>=1.0->aiohttp<3.10,>=3.9.5->langchain-pinecone) (3.4)\n",
      "Requirement already satisfied: propcache>=0.2.0 in c:\\users\\user\\appdata\\roaming\\python\\python311\\site-packages (from yarl<2.0,>=1.0->aiohttp<3.10,>=3.9.5->langchain-pinecone) (0.2.0)\n",
      "Requirement already satisfied: anyio in d:\\programdata\\anaconda3\\envs\\venv\\lib\\site-packages (from httpx<1,>=0.23.0->langsmith<0.3,>=0.1.125->langchain-core<0.4,>=0.3->langchain-pinecone) (3.5.0)\n",
      "Requirement already satisfied: httpcore==1.* in c:\\users\\user\\appdata\\roaming\\python\\python311\\site-packages (from httpx<1,>=0.23.0->langsmith<0.3,>=0.1.125->langchain-core<0.4,>=0.3->langchain-pinecone) (1.0.5)\n",
      "Requirement already satisfied: sniffio in c:\\users\\user\\appdata\\roaming\\python\\python311\\site-packages (from httpx<1,>=0.23.0->langsmith<0.3,>=0.1.125->langchain-core<0.4,>=0.3->langchain-pinecone) (1.3.1)\n",
      "Requirement already satisfied: h11<0.15,>=0.13 in c:\\users\\user\\appdata\\roaming\\python\\python311\\site-packages (from httpcore==1.*->httpx<1,>=0.23.0->langsmith<0.3,>=0.1.125->langchain-core<0.4,>=0.3->langchain-pinecone) (0.14.0)\n",
      "Requirement already satisfied: charset-normalizer<4,>=2 in c:\\users\\user\\appdata\\roaming\\python\\python311\\site-packages (from requests<3,>=2->langsmith<0.3,>=0.1.125->langchain-core<0.4,>=0.3->langchain-pinecone) (3.4.0)\n",
      "Using cached langchain_pinecone-0.2.0-py3-none-any.whl (11 kB)\n",
      "Downloading aiohttp-3.9.5-cp311-cp311-win_amd64.whl (370 kB)\n",
      "   ---------------------------------------- 0.0/370.8 kB ? eta -:--:--\n",
      "   ---------------------------------------- 0.0/370.8 kB ? eta -:--:--\n",
      "   - -------------------------------------- 10.2/370.8 kB ? eta -:--:--\n",
      "   ---- ---------------------------------- 41.0/370.8 kB 393.8 kB/s eta 0:00:01\n",
      "   ---------------- ----------------------- 153.6/370.8 kB 1.1 MB/s eta 0:00:01\n",
      "   ---------------------------------------  368.6/370.8 kB 2.3 MB/s eta 0:00:01\n",
      "   ---------------------------------------- 370.8/370.8 kB 1.9 MB/s eta 0:00:00\n",
      "Installing collected packages: aiohttp, langchain-pinecone\n",
      "  Attempting uninstall: aiohttp\n",
      "    Found existing installation: aiohttp 3.11.7\n",
      "    Uninstalling aiohttp-3.11.7:\n",
      "      Successfully uninstalled aiohttp-3.11.7\n",
      "Successfully installed aiohttp-3.9.5 langchain-pinecone-0.2.0\n"
     ]
    }
   ],
   "source": [
    "!pip install langchain-pinecone"
   ]
  },
  {
   "cell_type": "code",
   "execution_count": 8,
   "metadata": {
    "id": "FEq5v0E042PV"
   },
   "outputs": [],
   "source": [
    "from langchain_pinecone import PineconeVectorStore\n",
    "\n",
    "vector_store = PineconeVectorStore(index=index, embedding=embeddings)\n"
   ]
  },
  {
   "cell_type": "code",
   "execution_count": 14,
   "metadata": {
    "colab": {
     "base_uri": "https://localhost:8080/",
     "height": 1000
    },
    "id": "wgqh2ciW7ogJ",
    "outputId": "9090e3fa-9411-4bca-f760-ff6869f02cbc"
   },
   "outputs": [
    {
     "data": {
      "text/plain": [
       "[]"
      ]
     },
     "execution_count": 14,
     "metadata": {},
     "output_type": "execute_result"
    }
   ],
   "source": [
    "vector_store.add_documents(documents)"
   ]
  },
  {
   "cell_type": "code",
   "execution_count": 3,
   "metadata": {
    "id": "CjwBXV5U7wf1"
   },
   "outputs": [],
   "source": [
    "def retrieve_context(query,k=40):\n",
    "    matching_results=vector_store.similarity_search(query,k=k)\n",
    "    return matching_results"
   ]
  },
  {
   "cell_type": "code",
   "execution_count": 1,
   "metadata": {
    "id": "uLuAHB5U7zgW"
   },
   "outputs": [],
   "source": [
    "def retrieve_prompt(topic):\n",
    "    # Retrieve documents based on the query\n",
    "    doc_search = retrieve_context(topic)\n",
    "\n",
    "    # Concatenating page content of documents\n",
    "    documents_text = \"\\n\".join([doc.page_content for doc in doc_search])\n",
    "\n",
    "    # Prompt for generating OET Part A reading task in markdown format with complex numerical data\n",
    "    prompt =  f\"\"\"\n",
    "        Generate a detailed and professional reading passage for the Occupational English Test (OET) Part C reading section based on the topic '{topic}' as a mock test, adhering strictly to OET standards.\n",
    "\n",
    "        The content should be derived from the following documents and reflect their key points:\n",
    "\n",
    "        {documents_text}\n",
    "\n",
    "        The passage should:\n",
    "        - Begin with a main heading that is relevant to the topic.\n",
    "        - Present the information in paragraph form without any subheadings.\n",
    "        - Use advanced medical terminology and complex English language, suitable for healthcare professionals.\n",
    "        - Be at least 2000 words in length and maintain a clinical and professional tone throughout.\n",
    "        - Avoid introductory or concluding remarks such as \"Here is a passage for...\" or \"I hope this helps...\".\n",
    "        - Include challenging and contextually rich content with a focus on critical thinking.\n",
    "        - Maintain accuracy and relevance, using key insights from the provided documents.\n",
    "        \"\"\"\n",
    "\n",
    "\n",
    "    return prompt\n",
    "\n"
   ]
  },
  {
   "cell_type": "code",
   "execution_count": 9,
   "metadata": {
    "colab": {
     "base_uri": "https://localhost:8080/",
     "height": 158
    },
    "id": "ysdSVmKI8y-k",
    "outputId": "aab00841-e594-47b3-d870-e32e47465417"
   },
   "outputs": [],
   "source": [
    "topic = \"Conjunctive group therapy: a case study of an adult type I diabetes mellitus patient\"\n",
    "input = retrieve_prompt(topic)"
   ]
  },
  {
   "cell_type": "code",
   "execution_count": 10,
   "metadata": {},
   "outputs": [
    {
     "name": "stdout",
     "output_type": "stream",
     "text": [
      "**Conjunctive Group Therapy: A Case Study of an Adult Type I Diabetes Mellitus Patient**\n",
      "\n",
      "The present case study demonstrates the efficacy of conjunctive group therapy in facilitating the self-management skills of an adult patient with type I diabetes mellitus (T1DM). Within the context of a multidisciplinary healthcare setting, conjunctive group therapy was employed as a supplementary therapeutic approach to enhance the patient's ability to cope with the psychological and emotional burdens associated with T1DM.\n",
      "\n",
      "The patient, a 35-year-old male, was diagnosed with T1DM at the age of 25. Despite undergoing intensive education on insulin therapy and lifestyle modifications, he continued to experience significant difficulties in managing his condition. Specifically, he reported feelings of anxiety and depression when required to inject insulin, as well as struggles with adhering to a strict diet and exercise regimen. Moreover, the patient's relationships with family and friends had become strained due to the perceived burdens placed upon them by his condition.\n",
      "\n",
      "The conjunctive group therapy sessions were led by a qualified healthcare provider and consisted of two other patients with T1DM, who had been diagnosed at similar ages. The group met bi-weekly for a period of 12 weeks, during which time the participants engaged in open discussions, role-playing exercises, and problem-solving activities. The primary objectives of the therapy sessions were to foster peer support, build self-efficacy, and enhance coping skills.\n",
      "\n",
      "Throughout the therapy sessions, the patient demonstrated significant improvements in his ability to manage his diabetes. Initially, he had required frequent medical attention due to inadequate insulin dosing and erratic blood glucose levels. However, following the introduction of conjunctive group therapy, he was able to maintain stable blood glucose levels, as measured through regular self-monitoring of blood glucose (SMBG) levels and HbA1c tests.\n",
      "\n",
      "Notably, the patient reported a substantial decrease in feelings of anxiety and depression, as well as increased confidence in his ability to self-manage his condition. His relationships with family and friends also improved, as he became more empowered to take control of his diabetes and less reliant on others for emotional support.\n",
      "\n",
      "The efficacy of the conjunctive group therapy approach in this case study can be attributed to a variety of factors. Firstly, the peer-led format allowed the patient to develop a sense of camaraderie and shared understanding with fellow patients, thereby increasing his feelings of motivation and accountability. Secondly, the group dynamic facilitated the exchange of practical advice and shared experiences, enabling the patient to gain valuable insights into effective techniques for managing T1DM.\n",
      "\n",
      "Furthermore, the conjunctive group therapy sessions provided a safe and non-judgmental environment in which the patient could explore and express his emotional concerns related to his diagnosis. The healthcare provider, who was equipped with advanced knowledge and skills in cognitive-behavioral therapy, was able to support the patient in developing healthier coping strategies and building resilience.\n",
      "\n",
      "The results of this case study underscore the importance of incorporating conjunctive group therapy into the treatment plans of patients with T1DM. By providing a platform for peer support, education, and empowerment, this therapeutic approach can have a profound impact on the physical and emotional well-being of individuals living with this chronic condition.\n",
      "\n",
      "In conclusion, the present case study highlights the potential benefits of conjunctive group therapy in improving the management of T1DM in adult patients. As a supplementary therapeutic approach, conjunctive group therapy can be highly effective in enhancing self-efficacy, coping skills, and overall quality of life for patients living with this complex condition. Further research is warranted to fully elucidate the efficacy of this approach and to identify optimal strategies for integrating conjunctive group therapy into clinical practice.\n"
     ]
    }
   ],
   "source": [
    "from groq import Groq\n",
    "\n",
    "# Replace with your actual API key\n",
    "api_key = \"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\"\n",
    "\n",
    "client = Groq(api_key=api_key)\n",
    "\n",
    "# Example usage with client\n",
    "chat_completion = client.chat.completions.create(\n",
    "    messages=[{\n",
    "        \"role\": \"user\",\n",
    "        \"content\": f\"{input}\"\n",
    "    }],\n",
    "    model=\"llama3-8b-8192\",\n",
    ")\n",
    "\n",
    "response_next_input=chat_completion.choices[0].message.content\n",
    "\n",
    "print(chat_completion.choices[0].message.content)"
   ]
  },
  {
   "cell_type": "code",
   "execution_count": 11,
   "metadata": {},
   "outputs": [],
   "source": [
    "prompt_next = f\"\"\"\n",
    "Generate **one task** with 6 multiple-choice questions (MCQs) based on the given context for an OET Reading Test Part C. Each question should have 4 options (1 correct answer, 3 distractors) following OET standards.\n",
    "\n",
    "### Context:\n",
    "{response_next_input}\n",
    "\n",
    "### Output Format:\n",
    "```json\n",
    "{{\n",
    "  \"task\": {{\n",
    "    \"questions\": [\n",
    "      {{\n",
    "        \"question\": \"First question based on the passage.\",\n",
    "        \"options\": [\"a) Option A\", \"b) Option B\", \"c) Option C\", \"d) Option D\"],\n",
    "        \"correct_answer\": \"A\"\n",
    "      }},\n",
    "      {{\n",
    "        \"question\": \"Second question based on the passage.\",\n",
    "        \"options\": [\"a) Option A\", \"b) Option B\", \"c) Option C\", \"d) Option D\"],\n",
    "        \"correct_answer\": \"B\"\n",
    "      }},\n",
    "      ...# 3 more\n",
    "    ]\n",
    "  }}\n",
    "}}\n",
    "\"\"\"\n"
   ]
  },
  {
   "cell_type": "code",
   "execution_count": 12,
   "metadata": {},
   "outputs": [
    {
     "name": "stdout",
     "output_type": "stream",
     "text": [
      "{\n",
      "    \"task\": {\n",
      "        \"questions\": [\n",
      "            {\n",
      "                \"question\": \"What type of therapy was employed as a supplementary approach to enhance the patient's ability to manage his condition?\",\n",
      "                \"options\": [\n",
      "                    \"a) Cognitive-behavioral therapy (CBT)\",\n",
      "                    \"b) Conjunctive group therapy\",\n",
      "                    \"c) Intensive education on insulin therapy and lifestyle modifications\",\n",
      "                    \"d) Peer-facilitated therapy\"\n",
      "                ],\n",
      "                \"correct_answer\": \"b) Conjunctive group therapy\"\n",
      "            },\n",
      "            {\n",
      "                \"question\": \"The patient's relationships with family and friends became strained due to which factor?\",\n",
      "                \"options\": [\n",
      "                    \"a) High blood sugar levels\",\n",
      "                    \"b) Insulin therapy\",\n",
      "                    \"c) The perceived burdens placed upon them by his condition\",\n",
      "                    \"d) Strict diet and exercise regimen\"\n",
      "                ],\n",
      "                \"correct_answer\": \"c) The perceived burdens placed upon them by his condition\"\n",
      "            },\n",
      "            {\n",
      "                \"question\": \"By the end of the conjunctive group therapy sessions, the patient was able to:\",\n",
      "                \"options\": [\n",
      "                    \"a) Maintain stable blood glucose levels\",\n",
      "                    \"b) Manage blood sugar levels moderately\",\n",
      "                    \"c) Freely inject insulin without anxiety\",\n",
      "                    \"d) Experience unstable blood pressure\"\n",
      "                ],\n",
      "                \"correct_answer\": \"a) Maintain stable blood glucose levels\"\n",
      "            },\n",
      "            {\n",
      "                \"question\": \"What factor contributed to the effectiveness of conjunctive group therapy in this case study?\",\n",
      "                \"options\": [\n",
      "                    \"a) The specialized knowledge of the healthcare provider\",\n",
      "                    \"b) The bi-weekly meetings and role-playing exercises\",\n",
      "                    \"c) The peer-led format and camaraderie among patients\",\n",
      "                    \"d) All of the above\"\n",
      "                ],\n",
      "                \"correct_answer\": \"d) All of the above\"\n",
      "            },\n",
      "            {\n",
      "                \"question\": \"How many weeks did the patient participate in conjunctive group therapy sessions?\",\n",
      "                \"options\": [\n",
      "                    \"a) 6 weeks\",\n",
      "                    \"b) 8 weeks\",\n",
      "                    \"c) 12 weeks\",\n",
      "                    \"d) 16 weeks\"\n",
      "                ],\n",
      "                \"correct_answer\": \"c) 12 weeks\"\n",
      "            },\n",
      "            {\n",
      "                \"question\": \"Why is further research warranted on conjunctive group therapy?\",\n",
      "                \"options\": [\n",
      "                    \"a) To confirm its long-term effectiveness\",\n",
      "                    \"b) To understand its potential for multidisciplinary treatment plans\",\n",
      "                    \"c) Both A and B\",\n",
      "                    \"d) To obtain additional funds for medical studies\"\n",
      "                ],\n",
      "                \"correct_answer\": \"c) Both A and B\"\n",
      "            }\n",
      "        ]\n",
      "    }\n",
      "}\n"
     ]
    }
   ],
   "source": [
    "import json\n",
    "chat_completion = client.chat.completions.create(\n",
    "            messages=[{\n",
    "                \"role\": \"system\",\n",
    "                \"content\": (\n",
    "                    \"You are a helpful assistant. Please provide the output strictly in JSON format. \"\n",
    "                    \"Do not include any extra text or explanations. Ensure the JSON is valid and well-structured. \"\n",
    "                    f\"{prompt_next}\"\n",
    "                )\n",
    "            }],\n",
    "            model=\"llama-3.1-8b-instant\",\n",
    "        )\n",
    "json_output = None \n",
    "response_next_input = chat_completion.choices[0].message.content\n",
    "\n",
    "start_index = response_next_input.find('{')\n",
    "end_index = response_next_input.rfind('}') + 1\n",
    "\n",
    "# Extract and parse the JSON\n",
    "json_text = response_next_input[start_index:end_index]\n",
    "\n",
    "\n",
    "try:\n",
    "    json_output = json.loads(json_text)\n",
    "    print(json.dumps(json_output, indent=4))  # Pretty print the JSON\n",
    "except json.JSONDecodeError as e:\n",
    "    print(\"Invalid JSON response:\", response_next_input)\n",
    "    print(\"Error:\", e)\n"
   ]
  }
 ],
 "metadata": {
  "colab": {
   "provenance": []
  },
  "kernelspec": {
   "display_name": "venv",
   "language": "python",
   "name": "python3"
  },
  "language_info": {
   "codemirror_mode": {
    "name": "ipython",
    "version": 3
   },
   "file_extension": ".py",
   "mimetype": "text/x-python",
   "name": "python",
   "nbconvert_exporter": "python",
   "pygments_lexer": "ipython3",
   "version": "3.12.5"
  }
 },
 "nbformat": 4,
 "nbformat_minor": 0
}
