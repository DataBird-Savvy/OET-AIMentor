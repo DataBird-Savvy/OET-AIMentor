{
 "cells": [
  {
   "cell_type": "markdown",
   "metadata": {
    "id": "hk8eh88imp3w"
   },
   "source": [
    "# ***inserting list of query for listening part***"
   ]
  },
  {
   "cell_type": "code",
   "execution_count": null,
   "metadata": {
    "id": "hJv3WlvJ2h4F"
   },
   "outputs": [],
   "source": [
    "import json\n",
    "\n",
    "# Define the path to your JSON file\n",
    "json_file_path = '/content/data_listening_onedata.json'\n",
    "\n",
    "# Read and load the JSON file\n",
    "with open(json_file_path, 'r') as file:\n",
    "    data = json.load(file)\n",
    "\n",
    "\n"
   ]
  },
  {
   "cell_type": "code",
   "execution_count": null,
   "metadata": {
    "colab": {
     "base_uri": "https://localhost:8080/"
    },
    "id": "O7gorYQe3Vv4",
    "outputId": "c6537948-128c-451c-a2a4-5eb01a416582"
   },
   "outputs": [
    {
     "name": "stdout",
     "output_type": "stream",
     "text": [
      "5\n"
     ]
    }
   ],
   "source": [
    "input_list=[]\n",
    "# Recursive function to search for 'input' in the JSON structure\n",
    "def extract_input(data):\n",
    "    if isinstance(data, dict):\n",
    "        for key, value in data.items():\n",
    "            if key == 'input':  # If 'input' is found, add it to the list\n",
    "                input_list.append(value)\n",
    "            else:\n",
    "                extract_input(value)  # Recursively search in nested structures\n",
    "    elif isinstance(data, list):\n",
    "        for item in data:\n",
    "            extract_input(item)  # Recursively search in list items\n",
    "\n",
    "# Call the function to extract all 'input' values\n",
    "extract_input(data)\n",
    "\n",
    "# Print the list of 'input' values\n",
    "print(len(input_list))"
   ]
  },
  {
   "cell_type": "code",
   "execution_count": null,
   "metadata": {
    "id": "zvrHQDkH3fmZ"
   },
   "outputs": [],
   "source": [
    "import sqlite3\n",
    "\n",
    "# Connecting to SQLite (or creating the database file)\n",
    "conn = sqlite3.connect('listeninginput_query.db')\n",
    "cursor = conn.cursor()\n",
    "\n",
    "# Creating a table (if it doesn't already exist)\n",
    "cursor.execute('''\n",
    "CREATE TABLE IF NOT EXISTS inputs (\n",
    "    id INTEGER PRIMARY KEY AUTOINCREMENT,\n",
    "    input_value TEXT NOT NULL\n",
    ")''')\n",
    "\n",
    "\n",
    "cursor.executemany('INSERT INTO inputs (input_value) VALUES (?)', [(i,) for i in input_list])\n",
    "\n",
    "# Commit and close connection\n",
    "conn.commit()\n",
    "conn.close()\n"
   ]
  },
  {
   "cell_type": "code",
   "execution_count": null,
   "metadata": {
    "colab": {
     "base_uri": "https://localhost:8080/",
     "height": 104
    },
    "id": "Fu4PLle94-MO",
    "outputId": "ca106f34-2b5a-4bf8-ac67-692de1be6da4"
   },
   "outputs": [
    {
     "data": {
      "application/vnd.google.colaboratory.intrinsic+json": {
       "type": "string"
      },
      "text/plain": [
       "\"Generate a mock OET Listening Test , which includes conversations cover medical consultations between healthcare providers (like physiotherapists, dermatologists, nurses, and doctors) and patients or other healthcare staff, focusing on patients' medical histories, symptoms, treatments, and care plans. Topics include managing conditions like sciatica, skin lesions, and Chagas disease, and providing guidance on procedures, patient management, and recovery strategies. These dialogues are meant to test the listener's comprehension of healthcare-related language and scenarios.\""
      ]
     },
     "execution_count": 11,
     "metadata": {},
     "output_type": "execute_result"
    }
   ],
   "source": [
    "import sqlite3\n",
    "\n",
    "def get_cyclic_inputs():\n",
    "    # Connect to SQLite database\n",
    "    conn = sqlite3.connect('listeninginput_query.db')\n",
    "    cursor = conn.cursor()\n",
    "\n",
    "    # Fetch all input data from the table\n",
    "    cursor.execute('SELECT id, input_value FROM inputs ORDER BY id')\n",
    "    rows = cursor.fetchall()\n",
    "\n",
    "    # Store results in a list of tuples (id, input_value)\n",
    "    inputs = [(row[0], row[1]) for row in rows]\n",
    "\n",
    "    return inputs\n",
    "\n",
    "def cyclic_iterator():\n",
    "    inputs = get_cyclic_inputs()\n",
    "    idx = 0  # Start from the first element\n",
    "\n",
    "    while True:\n",
    "        # Return the current input value\n",
    "        yield inputs[idx][1]\n",
    "\n",
    "        # Move the current item to the last (simulate cyclic behavior)\n",
    "        # Move the item from the front to the back after it's accessed\n",
    "        inputs.append(inputs.pop(idx))\n",
    "\n",
    "        # Ensure idx is within bounds (i.e., always valid for the new list)\n",
    "        idx = (idx + 1) % len(inputs)\n",
    "\n",
    "# Create a cyclic iterator\n",
    "cyclic_gen = cyclic_iterator()\n",
    "\n",
    "next(cyclic_gen)\n"
   ]
  },
  {
   "cell_type": "code",
   "execution_count": null,
   "metadata": {
    "id": "ooHTZOkhmh37"
   },
   "outputs": [],
   "source": []
  },
  {
   "cell_type": "code",
   "execution_count": null,
   "metadata": {
    "id": "juP-g-zrmh63"
   },
   "outputs": [],
   "source": []
  },
  {
   "cell_type": "markdown",
   "metadata": {
    "id": "aSa0rU6LmiQa"
   },
   "source": [
    "## ***inserting list of topics for Reading part A***"
   ]
  },
  {
   "cell_type": "code",
   "execution_count": 1,
   "metadata": {
    "id": "F7RsM3ZSnTQu"
   },
   "outputs": [],
   "source": [
    "input_list=['management of major limb injuries','management of burns injury','management of fractures and dislocation','management of diabetic foot ulcer','management of cellulitis']"
   ]
  },
  {
   "cell_type": "code",
   "execution_count": 2,
   "metadata": {
    "id": "vQbyt5Cum_ge"
   },
   "outputs": [],
   "source": [
    "import sqlite3\n",
    "\n",
    "# Connecting to SQLite (or creating the database file)\n",
    "conn = sqlite3.connect('readingpartA_topics.db')\n",
    "cursor = conn.cursor()\n",
    "\n",
    "# Creating a table (if it doesn't already exist)\n",
    "cursor.execute('''\n",
    "CREATE TABLE IF NOT EXISTS inputs (\n",
    "    id INTEGER PRIMARY KEY AUTOINCREMENT,\n",
    "    input_value TEXT NOT NULL\n",
    ")''')\n",
    "\n",
    "\n",
    "cursor.executemany('INSERT INTO inputs (input_value) VALUES (?)', [(i,) for i in input_list])\n",
    "\n",
    "# Commit and close connection\n",
    "conn.commit()\n",
    "conn.close()"
   ]
  },
  {
   "cell_type": "code",
   "execution_count": 3,
   "metadata": {
    "colab": {
     "base_uri": "https://localhost:8080/",
     "height": 55
    },
    "id": "dkuODsdGoQZp",
    "outputId": "f19ccb31-85ce-4700-bcd7-0662894c35c8"
   },
   "outputs": [
    {
     "ename": "OperationalError",
     "evalue": "unable to open database file",
     "output_type": "error",
     "traceback": [
      "\u001b[1;31m---------------------------------------------------------------------------\u001b[0m",
      "\u001b[1;31mOperationalError\u001b[0m                          Traceback (most recent call last)",
      "Cell \u001b[1;32mIn[3], line 35\u001b[0m\n\u001b[0;32m     32\u001b[0m \u001b[38;5;66;03m# Create a cyclic iterator\u001b[39;00m\n\u001b[0;32m     33\u001b[0m cyclic_gen \u001b[38;5;241m=\u001b[39m cyclic_iterator()\n\u001b[1;32m---> 35\u001b[0m \u001b[38;5;28;43mnext\u001b[39;49m\u001b[43m(\u001b[49m\u001b[43mcyclic_gen\u001b[49m\u001b[43m)\u001b[49m\n",
      "Cell \u001b[1;32mIn[3], line 18\u001b[0m, in \u001b[0;36mcyclic_iterator\u001b[1;34m()\u001b[0m\n\u001b[0;32m     17\u001b[0m \u001b[38;5;28;01mdef\u001b[39;00m \u001b[38;5;21mcyclic_iterator\u001b[39m():\n\u001b[1;32m---> 18\u001b[0m     inputs \u001b[38;5;241m=\u001b[39m \u001b[43mget_cyclic_inputs\u001b[49m\u001b[43m(\u001b[49m\u001b[43m)\u001b[49m\n\u001b[0;32m     19\u001b[0m     idx \u001b[38;5;241m=\u001b[39m \u001b[38;5;241m0\u001b[39m  \u001b[38;5;66;03m# Start from the first element\u001b[39;00m\n\u001b[0;32m     21\u001b[0m     \u001b[38;5;28;01mwhile\u001b[39;00m \u001b[38;5;28;01mTrue\u001b[39;00m:\n\u001b[0;32m     22\u001b[0m         \u001b[38;5;66;03m# Return the current input value\u001b[39;00m\n",
      "Cell \u001b[1;32mIn[3], line 5\u001b[0m, in \u001b[0;36mget_cyclic_inputs\u001b[1;34m()\u001b[0m\n\u001b[0;32m      3\u001b[0m \u001b[38;5;28;01mdef\u001b[39;00m \u001b[38;5;21mget_cyclic_inputs\u001b[39m():\n\u001b[0;32m      4\u001b[0m     \u001b[38;5;66;03m# Connect to SQLite database\u001b[39;00m\n\u001b[1;32m----> 5\u001b[0m     conn \u001b[38;5;241m=\u001b[39m \u001b[43msqlite3\u001b[49m\u001b[38;5;241;43m.\u001b[39;49m\u001b[43mconnect\u001b[49m\u001b[43m(\u001b[49m\u001b[38;5;124;43m'\u001b[39;49m\u001b[38;5;124;43mnotebooks/readingpartA_topics.db\u001b[39;49m\u001b[38;5;124;43m'\u001b[39;49m\u001b[43m)\u001b[49m\n\u001b[0;32m      6\u001b[0m     cursor \u001b[38;5;241m=\u001b[39m conn\u001b[38;5;241m.\u001b[39mcursor()\n\u001b[0;32m      8\u001b[0m     \u001b[38;5;66;03m# Fetch all input data from the table\u001b[39;00m\n",
      "\u001b[1;31mOperationalError\u001b[0m: unable to open database file"
     ]
    }
   ],
   "source": [
    "import sqlite3\n",
    "\n",
    "def get_cyclic_inputs():\n",
    "    # Connect to SQLite database\n",
    "    conn = sqlite3.connect('notebooks/readingpartA_topics.db')\n",
    "    cursor = conn.cursor()\n",
    "\n",
    "    # Fetch all input data from the table\n",
    "    cursor.execute('SELECT id, input_value FROM inputs ORDER BY id')\n",
    "    rows = cursor.fetchall()\n",
    "\n",
    "    # Store results in a list of tuples (id, input_value)\n",
    "    inputs = [(row[0], row[1]) for row in rows]\n",
    "\n",
    "    return inputs\n",
    "\n",
    "def cyclic_iterator():\n",
    "    inputs = get_cyclic_inputs()\n",
    "    idx = 0  # Start from the first element\n",
    "\n",
    "    while True:\n",
    "        # Return the current input value\n",
    "        yield inputs[idx][1]\n",
    "\n",
    "        # Move the current item to the last (simulate cyclic behavior)\n",
    "        # Move the item from the front to the back after it's accessed\n",
    "        inputs.append(inputs.pop(idx))\n",
    "\n",
    "        # Ensure idx is within bounds (i.e., always valid for the new list)\n",
    "        idx = (idx + 1) % len(inputs)\n",
    "\n",
    "# Create a cyclic iterator\n",
    "cyclic_gen = cyclic_iterator()\n",
    "\n",
    "next(cyclic_gen)\n"
   ]
  },
  {
   "cell_type": "code",
   "execution_count": 12,
   "metadata": {
    "colab": {
     "base_uri": "https://localhost:8080/",
     "height": 55
    },
    "id": "IccbW52IoxGS",
    "outputId": "b41b10eb-a84a-403d-c9f3-3d7d36e0a82b"
   },
   "outputs": [
    {
     "data": {
      "application/vnd.google.colaboratory.intrinsic+json": {
       "type": "string"
      },
      "text/plain": [
       "'management of fractures and dislocation'"
      ]
     },
     "execution_count": 12,
     "metadata": {},
     "output_type": "execute_result"
    }
   ],
   "source": [
    "next(cyclic_gen)"
   ]
  },
  {
   "cell_type": "code",
   "execution_count": null,
   "metadata": {},
   "outputs": [],
   "source": []
  },
  {
   "cell_type": "code",
   "execution_count": null,
   "metadata": {},
   "outputs": [],
   "source": []
  },
  {
   "cell_type": "code",
   "execution_count": null,
   "metadata": {
    "id": "d3hCZsHto4qe"
   },
   "outputs": [],
   "source": []
  },
  {
   "cell_type": "code",
   "execution_count": null,
   "metadata": {
    "id": "nBI_hFjio4tv"
   },
   "outputs": [],
   "source": []
  },
  {
   "cell_type": "markdown",
   "metadata": {},
   "source": [
    "## ***inserting list of topics for Reading part B***"
   ]
  },
  {
   "cell_type": "code",
   "execution_count": 1,
   "metadata": {
    "id": "TAIzNhyio4wo"
   },
   "outputs": [],
   "source": [
    "input_list=[\"Create a reading comprehension task suitable for the OET Reading Test, specifically for Part B. The task should involve a short workplace text about medication safety in a hospital setting. The passage should cover key points on handling medication errors, protocols for reporting incidents, and the importance of clear communication among healthcare staff. Formulate one multiple-choice question based on this case.\",\n",
    "           \"Create a reading comprehension task suitable for the OET Reading Test, specifically for Part B. The task should involve a short workplace text about infection control protocols in a healthcare facility. The passage should focus on hand hygiene, the use of personal protective equipment (PPE), and the prevention of healthcare-associated infections (HAIs). Formulate one multiple-choice question based on this case.\",\n",
    "           \"Create a reading comprehension task suitable for the OET Reading Test, specifically for Part B. The task should involve a short workplace text in the form of a memo about new medical equipment training. The memo should detail the importance of attending the training, the schedule, and the procedure for those unable to attend. Formulate one multiple-choice question based on this case.\",\n",
    "           \"Create a reading comprehension task suitable for the OET Reading Test, specifically for Part B. The task should involve a workplace guideline about infection control policies. The passage should cover the importance of wearing PPE and the specific procedures for donning and doffing. Formulate one multiple-choice question based on this case.\",\n",
    "            \"Create a reading comprehension task suitable for the OET Reading Test, specifically for Part B. The task should involve a notice to healthcare staff about upcoming changes to patient documentation procedures, emphasizing the need for accurate recording and compliance. Formulate one multiple-choice question based on this case.\",\n",
    "            \"Create a reading comprehension task suitable for the OET Reading Test, specifically for Part B. The task should involve a hospital guideline related to the administration of high-alert medications, emphasizing the double-checking process before administration. Formulate one multiple-choice question based on this case.\",\n",
    "             \"Create a reading comprehension task suitable for the OET Reading Test, specifically for Part B. The task should involve a workplace notice about new health and safety protocols in the hospital, emphasizing the use of hand sanitizers and the importance of preventing the spread of infections. Formulate one multiple-choice question based on this case.\",\n",
    "            \"Create a reading comprehension task suitable for the OET Reading Test, specifically for Part B. The task should involve a passage on maintenance procedures for medical equipment, emphasizing the importance of regular checks and calibration. Formulate one multiple-choice question based on this case.\",\n",
    "            \"Create a reading comprehension task suitable for the OET Reading Test, specifically for Part B. The task should involve a staff scheduling notice that outlines the new rotating shift system, emphasizing the need for staff to check their updated schedules. Formulate one multiple-choice question based on this case.\",\n",
    "             \"Create a reading comprehension task suitable for the OET Reading Test, specifically for Part B. The task should involve a passage about patient discharge protocols, emphasizing the role of clear communication between staff and patients. Formulate one multiple-choice question based on this case.\",\n",
    "             \"Create a reading comprehension task suitable for the OET Reading Test, specifically for Part B. The task should involve a passage about infection control policies, emphasizing the use of personal protective equipment (PPE) when dealing with infectious patients. Formulate one multiple-choice question based on this case.\",\n",
    "            \"Create a reading comprehension task suitable for the OET Reading Test, specifically for Part B. The task should involve a passage explaining the proper procedure for taking a patient’s blood pressure in a clinical setting. Formulate one multiple-choice question based on this case.\",\n",
    "          \"Create a reading comprehension task suitable for the OET Reading Test, specifically for Part B. The task should involve a passage about the medication reconciliation process, which ensures patients' medication lists are accurate during hospital admission and discharge. Formulate one multiple-choice question based on this case.\",\n",
    "           \"Create a reading comprehension task suitable for the OET Reading Test, specifically for Part B. The task should involve a passage about the proper procedure for shift handover between nurses, including the need for clear communication. Formulate one multiple-choice question based on this case.\",\n",
    "           \"Create a reading comprehension task suitable for the OET Reading Test, specifically for Part B. The task should involve a hospital policy about the correct identification of patients before administering treatments or medications. Formulate one multiple-choice question based on this case.\",\n",
    "           \"Create a reading comprehension task suitable for the OET Reading Test, specifically for Part B. The task should involve a hospital fire safety procedure, outlining steps staff should take in case of a fire emergency. Formulate one multiple-choice question based on this case.\",\n",
    "           \"Create a reading comprehension task suitable for the OET Reading Test, specifically for Part B. The task should involve a passage about obtaining patient consent before a medical procedure. Formulate one multiple-choice question based on this case.\",\n",
    "           \"Create a reading comprehension task suitable for the OET Reading Test, specifically for Part B. The task should involve a passage about the procedure for completing a patient discharge summary in a hospital. Formulate one multiple-choice question based on this case.\",\n",
    "            \"Create a reading comprehension task suitable for the OET Reading Test, specifically for Part B. The task should involve a passage about the hospital’s policy for handling patient complaints. Formulate one multiple-choice question based on this case.\",\n",
    "      \n",
    "         ]"
   ]
  },
  {
   "cell_type": "code",
   "execution_count": 2,
   "metadata": {},
   "outputs": [],
   "source": [
    "import sqlite3\n",
    "\n",
    "# Connecting to SQLite (or creating the database file)\n",
    "conn = sqlite3.connect('readingpartB_inputs.db')\n",
    "cursor = conn.cursor()\n",
    "\n",
    "# Creating a table (if it doesn't already exist)\n",
    "cursor.execute('''\n",
    "CREATE TABLE IF NOT EXISTS inputs (\n",
    "    id INTEGER PRIMARY KEY AUTOINCREMENT,\n",
    "    input_value TEXT NOT NULL\n",
    ")''')\n",
    "\n",
    "\n",
    "cursor.executemany('INSERT INTO inputs (input_value) VALUES (?)', [(i,) for i in input_list])\n",
    "\n",
    "# Commit and close connection\n",
    "conn.commit()\n",
    "conn.close()"
   ]
  },
  {
   "cell_type": "code",
   "execution_count": 3,
   "metadata": {},
   "outputs": [
    {
     "data": {
      "text/plain": [
       "'Create a reading comprehension task suitable for the OET Reading Test, specifically for Part B. The task should involve a short workplace text about medication safety in a hospital setting. The passage should cover key points on handling medication errors, protocols for reporting incidents, and the importance of clear communication among healthcare staff. Formulate one multiple-choice question based on this case.'"
      ]
     },
     "execution_count": 3,
     "metadata": {},
     "output_type": "execute_result"
    }
   ],
   "source": [
    "import sqlite3\n",
    "\n",
    "def get_cyclic_inputs():\n",
    "    # Connect to SQLite database\n",
    "    conn = sqlite3.connect('readingpartB_inputs.db')\n",
    "    cursor = conn.cursor()\n",
    "\n",
    "    # Fetch all input data from the table\n",
    "    cursor.execute('SELECT id, input_value FROM inputs ORDER BY id')\n",
    "    rows = cursor.fetchall()\n",
    "\n",
    "    # Store results in a list of tuples (id, input_value)\n",
    "    inputs = [(row[0], row[1]) for row in rows]\n",
    "\n",
    "    return inputs\n",
    "\n",
    "def cyclic_iterator():\n",
    "    inputs = get_cyclic_inputs()\n",
    "    idx = 0  # Start from the first element\n",
    "\n",
    "    while True:\n",
    "        # Return the current input value\n",
    "        yield inputs[idx][1]\n",
    "\n",
    "        # Move the current item to the last (simulate cyclic behavior)\n",
    "        # Move the item from the front to the back after it's accessed\n",
    "        inputs.append(inputs.pop(idx))\n",
    "\n",
    "        # Ensure idx is within bounds (i.e., always valid for the new list)\n",
    "        idx = (idx + 1) % len(inputs)\n",
    "\n",
    "# Create a cyclic iterator\n",
    "cyclic_gen = cyclic_iterator()\n",
    "\n",
    "next(cyclic_gen)\n"
   ]
  },
  {
   "cell_type": "code",
   "execution_count": null,
   "metadata": {},
   "outputs": [],
   "source": []
  },
  {
   "cell_type": "code",
   "execution_count": null,
   "metadata": {},
   "outputs": [],
   "source": []
  },
  {
   "cell_type": "code",
   "execution_count": null,
   "metadata": {},
   "outputs": [],
   "source": []
  },
  {
   "cell_type": "code",
   "execution_count": null,
   "metadata": {},
   "outputs": [],
   "source": []
  },
  {
   "cell_type": "markdown",
   "metadata": {},
   "source": [
    "# part B with 3 questions"
   ]
  },
  {
   "cell_type": "code",
   "execution_count": 3,
   "metadata": {},
   "outputs": [],
   "source": [
    "input_list=[\"Create a reading comprehension task suitable for the OET Reading Test, specifically for Part B. The task should involve passages related Instruction Manual: Digital Automatic Blood Pressure Monitor,NG feeding tubes,'Right Patient, Right Blood' Assessments. Formulate one multiple-choice question for each one with answer.\",\n",
    "          \"Create a reading comprehension task suitable for the OET Reading Test, specifically for Part B. The task should involve passages related Extract from 'Chaperones: Guidelines for Good Practice',Annual medication review,To: All Staff. Subject: Advisory Email:Safe use of opoids . Formulate one multiple-choice question for each one with answer.\",\n",
    "    \"Create a reading comprehension task suitable for the OET Reading Test, specifically for Part B. The task should be passages which include Medicine Cupboard Keys,Post-Mortem Consent,Low-cost incinerator: General operating notes. Formulate  multiple-choice question for each one.\",\n",
    "     \"Create a reading comprehension task suitable for the OET Reading Test, specifically for Part B. The task should be passages which include Manual extract: Spacer devices for asthma patients,To: All Staff. Subject: Advisory Email:Safe use of opoids,Analeptic drugs . Formulate  multiple-choice question for each one.\",\n",
    "        \"Create a reading comprehension task suitable for the OET Reading Test, specifically for Part B. The task should have passage which include Patient Confidentiality,Transfer of patients,Memo. To :Hospital staff. Re: Nutrition screening. Formulate a multiple-choice question for each one.\",\n",
    "        \"Create a reading comprehension task suitable for the OET Reading Test, specifically for Part B. The task should have passage which include Patient Confidentiality,Transfer of patients,Memo. To :Hospital staff. Re: Nutrition screening,Stock requisitioning,6.2 Intensive Care Unit (ICU),Patient Safety Incidents. Formulate a multiple-choice question for each one.\",\n",
    "     \"Create a reading comprehension task suitable for the OET Reading Test, specifically for Part B. The task should involve passange which include Extract from a manual on surgery: disclosure,Policy guidelines for general practitioners: asthma action plans,Unknown and empty chemical waste container disposal. Formulate one multiple-choice question for each one.\",\n",
    "     \"Create a reading comprehension task suitable for the OET Reading Test, specifically for Part B. The task should involve passange which include To: All Staff. Re: Pharmacy incidents and errors,Evaluation of potential spinal injuries,Memo. To :Hospital staff. Re: Withdrawal of bovine insulin. Formulate one multiple-choice question for each one.\",\n",
    "    \"Create a reading comprehension task suitable for the OET Reading Test, specifically for Part B. The task should involve NOTICE:Nasogastric tube (NGT),Clinical Guidelines,Protocol for the use of Ferinject during pregnancy. Formulate one multiple-choice question for each one.\",\n",
    "      \"Create a reading comprehension task suitable for the OET Reading Test, specifically for Part B. The task should involve NOTICE:Emergency Nurse Practitioner (ENP) Minor Injury Course,Maternity Ward Guideline 4.3.7: Electric breast pumps,Hospital Discharge Policy 4.1.5 Registered Nurse. Formulate one multiple-choice question for each one.\",\n",
    "    \"Create a reading comprehension task suitable for the OET Reading Test, specifically for Part B. The task should involve passages related to Clinical Hand Hygiene Guidelines, Diabetes Self-Management, Patient Discharge Protocols. Formulate one multiple-choice question for each one with an answer.\",\n",
    "       \"Create a reading comprehension task suitable for the OET Reading Test, specifically for Part B. The task should involve passages related to Clinical Hand Hygiene Guidelines, Diabetes Self-Management, Patient Discharge Protocols, Infection Control Measures, Privacy in Telehealth Consultations, and Safe Use of Anticoagulants. Formulate one multiple-choice question for each one with an answer.\",\n",
    "    \n",
    "         \n",
    "          \n",
    "      ]"
   ]
  },
  {
   "cell_type": "code",
   "execution_count": 4,
   "metadata": {},
   "outputs": [],
   "source": [
    "import sqlite3\n",
    "\n",
    "# Connecting to SQLite (or creating the database file)\n",
    "conn = sqlite3.connect('readingpartB_inputs_3Q.db')\n",
    "cursor = conn.cursor()\n",
    "\n",
    "# Creating a table (if it doesn't already exist)\n",
    "cursor.execute('''\n",
    "CREATE TABLE IF NOT EXISTS inputs (\n",
    "    id INTEGER PRIMARY KEY AUTOINCREMENT,\n",
    "    input_value TEXT NOT NULL\n",
    ")''')\n",
    "\n",
    "\n",
    "cursor.executemany('INSERT INTO inputs (input_value) VALUES (?)', [(i,) for i in input_list])\n",
    "\n",
    "# Commit and close connection\n",
    "conn.commit()\n",
    "conn.close()"
   ]
  },
  {
   "cell_type": "code",
   "execution_count": 8,
   "metadata": {},
   "outputs": [
    {
     "data": {
      "text/plain": [
       "\"Create a reading comprehension task suitable for the OET Reading Test, specifically for Part B. The task should involve passages related Instruction Manual: Digital Automatic Blood Pressure Monitor,NG feeding tubes,'Right Patient, Right Blood' Assessments. Formulate one multiple-choice question for each one with answer.\""
      ]
     },
     "execution_count": 8,
     "metadata": {},
     "output_type": "execute_result"
    }
   ],
   "source": [
    "import sqlite3\n",
    "\n",
    "def get_cyclic_inputs():\n",
    "    # Connect to SQLite database\n",
    "    conn = sqlite3.connect('readingpartB_inputs_3Q.db')\n",
    "    cursor = conn.cursor()\n",
    "\n",
    "    # Fetch all input data from the table\n",
    "    cursor.execute('SELECT id, input_value FROM inputs ORDER BY id')\n",
    "    rows = cursor.fetchall()\n",
    "\n",
    "    # Store results in a list of tuples (id, input_value)\n",
    "    inputs = [(row[0], row[1]) for row in rows]\n",
    "\n",
    "    return inputs\n",
    "\n",
    "def cyclic_iterator():\n",
    "    inputs = get_cyclic_inputs()\n",
    "    idx = 0  # Start from the first element\n",
    "\n",
    "    while True:\n",
    "        # Return the current input value\n",
    "        yield inputs[idx][1]\n",
    "\n",
    "        # Move the current item to the last (simulate cyclic behavior)\n",
    "        # Move the item from the front to the back after it's accessed\n",
    "        inputs.append(inputs.pop(idx))\n",
    "\n",
    "        # Ensure idx is within bounds (i.e., always valid for the new list)\n",
    "        idx = (idx + 1) % len(inputs)\n",
    "\n",
    "# Create a cyclic iterator\n",
    "cyclic_gen = cyclic_iterator()\n",
    "\n",
    "next(cyclic_gen)\n"
   ]
  },
  {
   "cell_type": "code",
   "execution_count": null,
   "metadata": {},
   "outputs": [],
   "source": []
  },
  {
   "cell_type": "code",
   "execution_count": null,
   "metadata": {},
   "outputs": [],
   "source": []
  },
  {
   "cell_type": "code",
   "execution_count": null,
   "metadata": {},
   "outputs": [],
   "source": []
  },
  {
   "cell_type": "code",
   "execution_count": null,
   "metadata": {},
   "outputs": [],
   "source": []
  },
  {
   "cell_type": "code",
   "execution_count": null,
   "metadata": {},
   "outputs": [],
   "source": []
  },
  {
   "cell_type": "code",
   "execution_count": null,
   "metadata": {},
   "outputs": [],
   "source": []
  },
  {
   "cell_type": "markdown",
   "metadata": {},
   "source": [
    "## ***inserting list of topics for Reading part C***"
   ]
  },
  {
   "cell_type": "code",
   "execution_count": 9,
   "metadata": {},
   "outputs": [],
   "source": [
    "input_list=[  \"Create a reading comprehension task suitable for the OET Reading Test, specifically for Part C. The task should discuss the role of nutrition in managing chronic diseases such as diabetes and heart disease. Formulate multiple-choice questions based on this case.\",\n",
    "           \"Create a reading comprehension task suitable for the OET Reading Test, specifically for Part C. The task should discuss the importance of mental health in patient care and its impact on overall recovery. Formulate multiple-choice questions based on this case.\",\n",
    "           \"Create a reading comprehension task suitable for the OET Reading Test, specifically for Part C. The task should discuss the management of asthma and the importance of patient education in controlling the condition. Formulate multiple-choice questions based on this case.\",\n",
    "           \"Create a reading comprehension task suitable for the OET Reading Test, specifically for Part C. The task should discuss the management of diabetes and the importance of lifestyle changes in controlling the condition. Formulate multiple-choice questions based on this case.\",\n",
    "           \"Create a reading comprehension task suitable for the OET Reading Test, specifically for Part C. The task should address mental health awareness, emphasizing the importance of healthcare professionals in recognizing and addressing mental health issues among patients. Formulate multiple-choice questions based on this case.\",\n",
    "           \"Create a reading comprehension task suitable for the OET Reading Test, specifically for Part C. The task should discuss the management of diabetes, its types, risk factors, lifestyle modifications, and the importance of regular monitoring. Formulate multiple-choice questions based on this case.\",\n",
    "           \"Create a reading comprehension task suitable for the OET Reading Test, specifically for Part C. The task should discuss mental health awareness, common mental health disorders, their symptoms, risk factors, and the importance of early intervention and treatment. Formulate multiple-choice questions based on this case.\",\n",
    "           \"Create a reading comprehension task suitable for the OET Reading Test, specifically for Part C. The task should discuss the management of diabetes and the importance of lifestyle changes, monitoring, and patient education in controlling the condition. Formulate multiple-choice questions based on this case.\",\n",
    "           \"Create a reading comprehension task suitable for the OET Reading Test, specifically for Part C. The task should focus on a discussion about the role of telemedicine in modern healthcare. Include details about the benefits, challenges, and future implications of telemedicine. Formulate multiple-choice questions based on this case.\",\n",
    "           \"Create a reading comprehension task suitable for the OET Reading Test, specifically for Part C. The task should elaborate on the implications of telemedicine on patient care, including ethical considerations, technology integration, and patient outcomes. Formulate multiple-choice questions based on this case.\",\n",
    "         \n",
    "        \n",
    "         ]"
   ]
  },
  {
   "cell_type": "code",
   "execution_count": 10,
   "metadata": {},
   "outputs": [],
   "source": [
    "titles_dict = {\n",
    "    \n",
    "    \n",
    "    \"Role of Nutrition in Managing Chronic Diseases\": input_list[0],\n",
    "    \"Importance of Mental Health in Patient Care\": input_list[1],\n",
    "    \"Management of Asthma and Patient Education\": input_list[2],\n",
    "    \"Management of Diabetes and Lifestyle Changes\": input_list[3],\n",
    "    \"Mental Health Awareness among Patients\": input_list[4],\n",
    "    \"Management of Diabetes and Regular Monitoring\": input_list[5],\n",
    "    \"Common Mental Health Disorders and Early Intervention\": input_list[6],\n",
    "    \"Management of Diabetes and Lifestyle Changes in Control\": input_list[7],\n",
    "    \"Role of Telemedicine in Modern Healthcare\": input_list[8],\n",
    "    \"Implications of Telemedicine on Patient Care\": input_list[9]\n",
    "}"
   ]
  },
  {
   "cell_type": "code",
   "execution_count": 11,
   "metadata": {},
   "outputs": [],
   "source": [
    "import sqlite3\n",
    "conn = sqlite3.connect('readingpartC_inputs.db')\n",
    "c = conn.cursor()\n",
    "\n",
    "# Create table if it doesn't exist\n",
    "c.execute('''\n",
    "    CREATE TABLE IF NOT EXISTS prompts (\n",
    "        title TEXT PRIMARY KEY,\n",
    "        prompt TEXT\n",
    "    )\n",
    "''')\n",
    "\n",
    "# Insert the data\n",
    "for title, prompt in titles_dict.items():\n",
    "    c.execute('''\n",
    "        INSERT OR REPLACE INTO prompts (title, prompt)\n",
    "        VALUES (?, ?)\n",
    "    ''', (title, prompt))\n",
    "\n",
    "# Commit the changes and close the connection\n",
    "conn.commit()\n",
    "conn.close()"
   ]
  },
  {
   "cell_type": "code",
   "execution_count": 12,
   "metadata": {},
   "outputs": [
    {
     "name": "stdout",
     "output_type": "stream",
     "text": [
      "Create a reading comprehension task suitable for the OET Reading Test, specifically for Part C. The task should discuss the role of nutrition in managing chronic diseases such as diabetes and heart disease. Formulate multiple-choice questions based on this case.\n"
     ]
    }
   ],
   "source": [
    "def get_cyclic_inputs():\n",
    "    # Connect to SQLite database\n",
    "    conn = sqlite3.connect('readingpartC_inputs.db')\n",
    "    cursor = conn.cursor()\n",
    "\n",
    "    # Fetch all input data from the table\n",
    "    cursor.execute('SELECT title, prompt FROM prompts ORDER BY ROWID')\n",
    "    rows = cursor.fetchall()\n",
    "\n",
    "    # Store results in a list of tuples (title, prompt)\n",
    "    inputs = [(row[0], row[1]) for row in rows]\n",
    "\n",
    "    conn.close()\n",
    "    return inputs\n",
    "\n",
    "\n",
    "\n",
    "# Cyclic generator function\n",
    "def cyclic_iterator():\n",
    "    inputs = get_cyclic_inputs()\n",
    "    idx = 0  # Start from the first element\n",
    "\n",
    "    while True:\n",
    "        # Return the current input value\n",
    "        yield inputs[idx][1]\n",
    "\n",
    "        # Move the current item to the last (simulate cyclic behavior)\n",
    "        # Move the item from the front to the back after it's accessed\n",
    "        inputs.append(inputs.pop(idx))\n",
    "\n",
    "        # Ensure idx is within bounds (i.e., always valid for the new list)\n",
    "        idx = (idx + 1) % len(inputs)\n",
    "\n",
    "\n",
    "\n",
    "# Create a cyclic iterator\n",
    "cyclic_gen = cyclic_iterator()\n",
    "\n",
    "# Example usage\n",
    "next_input = next(cyclic_gen)\n",
    "print(next_input)"
   ]
  },
  {
   "cell_type": "markdown",
   "metadata": {},
   "source": [
    "# FOR RAG USE TOPICS"
   ]
  },
  {
   "cell_type": "code",
   "execution_count": 1,
   "metadata": {},
   "outputs": [],
   "source": [
    "input_list=[\"Conjunctive group therapy: a case study of an adult type I diabetes mellitus patient\",\"Patient Safety:Highlighting a collaborative initiative to improve patient safety\",\"Allergic to eating\",\"Planning for the future\",\"Alzheimer’s from a new angle\",\"Migraine – more than just a headache\",\"Prenatal origins of heart disease\",\"Open patient records\",\"ADHD\"]"
   ]
  },
  {
   "cell_type": "code",
   "execution_count": 2,
   "metadata": {},
   "outputs": [],
   "source": [
    "import sqlite3\n",
    "\n",
    "# Connecting to SQLite (or creating the database file)\n",
    "conn = sqlite3.connect('readingpartC_topicsforRAG.db')\n",
    "cursor = conn.cursor()\n",
    "\n",
    "# Creating a table (if it doesn't already exist)\n",
    "cursor.execute('''\n",
    "CREATE TABLE IF NOT EXISTS inputs (\n",
    "    id INTEGER PRIMARY KEY AUTOINCREMENT,\n",
    "    input_value TEXT NOT NULL\n",
    ")''')\n",
    "\n",
    "\n",
    "cursor.executemany('INSERT INTO inputs (input_value) VALUES (?)', [(i,) for i in input_list])\n",
    "\n",
    "# Commit and close connection\n",
    "conn.commit()\n",
    "conn.close()"
   ]
  },
  {
   "cell_type": "code",
   "execution_count": 3,
   "metadata": {},
   "outputs": [
    {
     "data": {
      "text/plain": [
       "'Conjunctive group therapy: a case study of an adult type I diabetes mellitus patient'"
      ]
     },
     "execution_count": 3,
     "metadata": {},
     "output_type": "execute_result"
    }
   ],
   "source": [
    "import sqlite3\n",
    "\n",
    "def get_cyclic_inputs():\n",
    "    # Connect to SQLite database\n",
    "    conn = sqlite3.connect('readingpartC_topicsforRAG.db')\n",
    "    cursor = conn.cursor()\n",
    "\n",
    "    # Fetch all input data from the table\n",
    "    cursor.execute('SELECT id, input_value FROM inputs ORDER BY id')\n",
    "    rows = cursor.fetchall()\n",
    "\n",
    "    # Store results in a list of tuples (id, input_value)\n",
    "    inputs = [(row[0], row[1]) for row in rows]\n",
    "\n",
    "    return inputs\n",
    "\n",
    "def cyclic_iterator():\n",
    "    inputs = get_cyclic_inputs()\n",
    "    idx = 0  # Start from the first element\n",
    "\n",
    "    while True:\n",
    "        # Return the current input value\n",
    "        yield inputs[idx][1]\n",
    "\n",
    "        # Move the current item to the last (simulate cyclic behavior)\n",
    "        # Move the item from the front to the back after it's accessed\n",
    "        inputs.append(inputs.pop(idx))\n",
    "\n",
    "        # Ensure idx is within bounds (i.e., always valid for the new list)\n",
    "        idx = (idx + 1) % len(inputs)\n",
    "\n",
    "# Create a cyclic iterator\n",
    "cyclic_gen = cyclic_iterator()\n",
    "\n",
    "next(cyclic_gen)\n"
   ]
  }
 ],
 "metadata": {
  "colab": {
   "provenance": []
  },
  "kernelspec": {
   "display_name": "venv",
   "language": "python",
   "name": "python3"
  },
  "language_info": {
   "codemirror_mode": {
    "name": "ipython",
    "version": 3
   },
   "file_extension": ".py",
   "mimetype": "text/x-python",
   "name": "python",
   "nbconvert_exporter": "python",
   "pygments_lexer": "ipython3",
   "version": "3.12.5"
  }
 },
 "nbformat": 4,
 "nbformat_minor": 0
}
